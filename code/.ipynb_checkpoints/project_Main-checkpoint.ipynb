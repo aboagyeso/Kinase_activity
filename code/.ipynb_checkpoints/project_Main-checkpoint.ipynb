{
 "cells": [
  {
   "cell_type": "markdown",
   "metadata": {},
   "source": [
    "IMPORT DEPENDENCIES"
   ]
  },
  {
   "cell_type": "code",
   "execution_count": 45,
   "metadata": {},
   "outputs": [],
   "source": [
    "import warnings; warnings.simplefilter('ignore')\n",
    "import pandas as pd \n",
    "import numpy as np \n",
    "import matplotlib.pyplot as plt \n",
    "import seaborn as sns\n",
    "import sklearn"
   ]
  },
  {
   "cell_type": "markdown",
   "metadata": {},
   "source": [
    "READ IN THE DATA"
   ]
  },
  {
   "cell_type": "code",
   "execution_count": 3,
   "metadata": {},
   "outputs": [
    {
     "name": "stdout",
     "output_type": "stream",
     "text": [
      "  target_id  pAc                                             smiles\n",
      "0    O00329  1.4        CS(=O)(=O)C1=CN=CC(=C1)C2=CC3=NC(=NN3C=C2)N\n",
      "1    O00329  1.5      C1=CN2C(=NC(=N2)N)C=C1C3=CC(=CN=C3)S(=O)(=O)N\n",
      "2    O00329  1.5   CC(C)NS(=O)(=O)C1=CN=CC(=C1)C2=CC3=NC(=NN3C=C2)N\n",
      "3    O00329  1.5  CC1(CCN1S(=O)(=O)C2=CN=CC(=C2)C3=CC4=NC(=NN4C=...\n",
      "4    O00329  1.5  CC(C)(C(F)(F)F)NS(=O)(=O)C1=CN=CC(=C1)C2=CC3=N...\n"
     ]
    }
   ],
   "source": [
    "df = pd.read_csv('~/Desktop/kinase_dataset_v1.csv')\n",
    "\n",
    "print(df.head())"
   ]
  },
  {
   "cell_type": "markdown",
   "metadata": {},
   "source": [
    "#EXTRACT INDIVIDUAL TARGET_ID'S"
   ]
  },
  {
   "cell_type": "code",
   "execution_count": 4,
   "metadata": {},
   "outputs": [
    {
     "name": "stdout",
     "output_type": "stream",
     "text": [
      "Unique_ids:\n",
      "['O00329' 'O75116' 'P00533' 'P04626' 'P06239' 'P11309' 'P15056' 'P23458'\n",
      " 'P24941' 'P36888' 'P42336' 'P42338' 'P42345' 'P43405' 'P48736' 'P49841'\n",
      " 'Q05397' 'Q16539']\n",
      "\n",
      "\n",
      "The Number of Unique ids is:\n",
      "18\n"
     ]
    }
   ],
   "source": [
    "#Get a list of all the unique values\n",
    "unique_ids = (np.unique(df.target_id))\n",
    "print('Unique_ids:')\n",
    "print(unique_ids)\n",
    "print('\\n')\n",
    "print('The Number of Unique ids is:')\n",
    "print(len(unique_ids))"
   ]
  },
  {
   "cell_type": "code",
   "execution_count": 5,
   "metadata": {},
   "outputs": [
    {
     "data": {
      "text/plain": [
       "P00533    4639\n",
       "P42336    3460\n",
       "Q16539    3338\n",
       "P42345    2767\n",
       "P43405    2132\n",
       "P15056    1696\n",
       "P49841    1569\n",
       "P04626    1437\n",
       "P48736    1403\n",
       "O00329    1381\n",
       "P06239    1363\n",
       "P24941    1307\n",
       "P11309    1297\n",
       "P42338    1247\n",
       "P23458    1232\n",
       "O75116    1228\n",
       "Q05397    1071\n",
       "P36888    1015\n",
       "Name: target_id, dtype: int64"
      ]
     },
     "execution_count": 5,
     "metadata": {},
     "output_type": "execute_result"
    }
   ],
   "source": [
    "#value count of all the unique values \n",
    "target_count = df.target_id.value_counts()\n",
    "target_count"
   ]
  },
  {
   "cell_type": "code",
   "execution_count": 6,
   "metadata": {},
   "outputs": [],
   "source": [
    "#Plot of the unique ids"
   ]
  },
  {
   "cell_type": "code",
   "execution_count": 7,
   "metadata": {},
   "outputs": [
    {
     "data": {
      "text/plain": [
       "count    33582.000000\n",
       "mean         6.884123\n",
       "std          1.329273\n",
       "min          1.200000\n",
       "25%          5.980000\n",
       "50%          6.940000\n",
       "75%          7.850000\n",
       "max         13.967500\n",
       "Name: pAc, dtype: float64"
      ]
     },
     "execution_count": 7,
     "metadata": {},
     "output_type": "execute_result"
    }
   ],
   "source": [
    "#Get Statistics for the pAc column\n",
    "df.pAc.describe()"
   ]
  },
  {
   "cell_type": "code",
   "execution_count": 8,
   "metadata": {},
   "outputs": [
    {
     "data": {
      "image/png": "[encoded data removed]",
      "text/plain": [
       "<Figure size 432x288 with 1 Axes>"
      ]
     },
     "metadata": {
      "needs_background": "light"
     },
     "output_type": "display_data"
    }
   ],
   "source": [
    "target_count.plot(kind='bar', title='Count (target)');"
   ]
  },
  {
   "cell_type": "code",
   "execution_count": 27,
   "metadata": {},
   "outputs": [],
   "source": [
    "#make a data directory and a target_ifles folder\n",
    "import os\n",
    "\n",
    "os.mkdir('C:/Users/aboagyeso/Desktop/data/target_files')\n"
   ]
  },
  {
   "cell_type": "code",
   "execution_count": 29,
   "metadata": {},
   "outputs": [
    {
     "data": {
      "text/plain": [
       "['target_files']"
      ]
     },
     "execution_count": 29,
     "metadata": {},
     "output_type": "execute_result"
    }
   ],
   "source": [
    "#Check the content of the data folder\n",
    "os.listdir('C:/Users/aboagyeso/Desktop/data')"
   ]
  },
  {
   "cell_type": "code",
   "execution_count": 37,
   "metadata": {},
   "outputs": [
    {
     "data": {
      "text/html": [
       "<div>\n",
       "<style scoped>\n",
       "    .dataframe tbody tr th:only-of-type {\n",
       "        vertical-align: middle;\n",
       "    }\n",
       "\n",
       "    .dataframe tbody tr th {\n",
       "        vertical-align: top;\n",
       "    }\n",
       "\n",
       "    .dataframe thead th {\n",
       "        text-align: right;\n",
       "    }\n",
       "</style>\n",
       "<table border=\"1\" class=\"dataframe\">\n",
       "  <thead>\n",
       "    <tr style=\"text-align: right;\">\n",
       "      <th></th>\n",
       "      <th>target_id</th>\n",
       "      <th>pAc</th>\n",
       "      <th>smiles</th>\n",
       "    </tr>\n",
       "  </thead>\n",
       "  <tbody>\n",
       "    <tr>\n",
       "      <th>2609</th>\n",
       "      <td>P00533</td>\n",
       "      <td>1.60</td>\n",
       "      <td>C1=CC(=CC=C1CCC(=O)C2=C(C=C(C=C2O)O)O)O</td>\n",
       "    </tr>\n",
       "    <tr>\n",
       "      <th>2610</th>\n",
       "      <td>P00533</td>\n",
       "      <td>1.72</td>\n",
       "      <td>C1=CC(=C(C=C1/C=C/C(=O)C2=C(C(=C(C=C2)O[C@H]3[...</td>\n",
       "    </tr>\n",
       "    <tr>\n",
       "      <th>2611</th>\n",
       "      <td>P00533</td>\n",
       "      <td>1.96</td>\n",
       "      <td>C[C@@H](C(=O)N1CCN(CC1)C2=CC(=C(C=C2NC(=O)C=C)...</td>\n",
       "    </tr>\n",
       "    <tr>\n",
       "      <th>2612</th>\n",
       "      <td>P00533</td>\n",
       "      <td>1.99</td>\n",
       "      <td>COC1=C(C=C(C(=C1)N2CCN(CC2)C(=O)N3CCNCC3)NC(=O...</td>\n",
       "    </tr>\n",
       "    <tr>\n",
       "      <th>2613</th>\n",
       "      <td>P00533</td>\n",
       "      <td>2.00</td>\n",
       "      <td>CN(C)CC(=O)N1CCN(CC1)C2=CC(=C(C=C2NC(=O)C=C)NC...</td>\n",
       "    </tr>\n",
       "  </tbody>\n",
       "</table>\n",
       "</div>"
      ],
      "text/plain": [
       "     target_id   pAc                                             smiles\n",
       "2609    P00533  1.60            C1=CC(=CC=C1CCC(=O)C2=C(C=C(C=C2O)O)O)O\n",
       "2610    P00533  1.72  C1=CC(=C(C=C1/C=C/C(=O)C2=C(C(=C(C=C2)O[C@H]3[...\n",
       "2611    P00533  1.96  C[C@@H](C(=O)N1CCN(CC1)C2=CC(=C(C=C2NC(=O)C=C)...\n",
       "2612    P00533  1.99  COC1=C(C=C(C(=C1)N2CCN(CC2)C(=O)N3CCNCC3)NC(=O...\n",
       "2613    P00533  2.00  CN(C)CC(=O)N1CCN(CC1)C2=CC(=C(C=C2NC(=O)C=C)NC..."
      ]
     },
     "execution_count": 37,
     "metadata": {},
     "output_type": "execute_result"
    }
   ],
   "source": [
    "#Extract all records with target_id of POO533\n",
    "id_P00533 = df[df[\"target_id\"].isin(['P00533'])]\n",
    "#Alternatively the code below could be used\n",
    "#id_P00533 = df[df.target_id=='P00533']\n",
    "# Write the new DataFrame to a CSV file\n",
    "id_P00533.to_csv('~/Desktop/data/target_files/id_P00533.csv')\n",
    "               \n",
    "id_P00533.head()"
   ]
  },
  {
   "cell_type": "code",
   "execution_count": 44,
   "metadata": {},
   "outputs": [],
   "source": [
    "# Load the data into a DataFrame\n",
    "#surveys_df = pd.read_csv('data/surveys.csv')\n",
    "\n",
    "for target in df['target_id'].unique():\n",
    "\n",
    "    # Select data for the year\n",
    "    target_id = df[df.target_id == target]\n",
    "\n",
    "    # Write the new DataFrame to a CSV file\n",
    "    filename = '~/Desktop/data/target_files/targets' + str(target) + '.csv'\n",
    "    target_id.to_csv(filename)"
   ]
  },
  {
   "cell_type": "code",
   "execution_count": 39,
   "metadata": {},
   "outputs": [
    {
     "name": "stdout",
     "output_type": "stream",
     "text": [
      "P00533    4639\n",
      "P42336    3460\n",
      "Q16539    3338\n",
      "P42345    2767\n",
      "P43405    2132\n",
      "P15056    1696\n",
      "P49841    1569\n",
      "P04626    1437\n",
      "P48736    1403\n",
      "O00329    1381\n",
      "P06239    1363\n",
      "P24941    1307\n",
      "P11309    1297\n",
      "P42338    1247\n",
      "P23458    1232\n",
      "O75116    1228\n",
      "Q05397    1071\n",
      "P36888    1015\n",
      "Name: target_id, dtype: int64\n"
     ]
    },
    {
     "data": {
      "image/png": "[encoded data removed]",
      "text/plain": [
       "<Figure size 432x288 with 1 Axes>"
      ]
     },
     "metadata": {},
     "output_type": "display_data"
    }
   ],
   "source": [
    "target_count = df.target_id.value_counts()\n",
    "print(target_count)\n",
    "\n",
    "\n",
    "target_count.plot(kind='bar', title='Count (target)');"
   ]
  }
 ],
 "metadata": {
  "kernelspec": {
   "display_name": "Python 3",
   "language": "python",
   "name": "python3"
  },
  "language_info": {
   "codemirror_mode": {
    "name": "ipython",
    "version": 3
   },
   "file_extension": ".py",
   "mimetype": "text/x-python",
   "name": "python",
   "nbconvert_exporter": "python",
   "pygments_lexer": "ipython3",
   "version": "3.7.3"
  }
 },
 "nbformat": 4,
 "nbformat_minor": 2
}
