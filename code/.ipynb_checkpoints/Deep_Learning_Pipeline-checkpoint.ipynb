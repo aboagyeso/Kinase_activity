{
 "cells": [
  {
   "cell_type": "code",
   "execution_count": 32,
   "metadata": {},
   "outputs": [],
   "source": [
    "#import custom module with defined functions\n",
    "from kinase_module import *\n"
   ]
  },
  {
   "cell_type": "code",
   "execution_count": 174,
   "metadata": {},
   "outputs": [],
   "source": [
    "# imports\n",
    "from sklearn.model_selection import cross_val_score, cross_val_predict\n",
    "from sklearn import linear_model\n",
    "from sklearn.ensemble import RandomForestRegressor as rf\n",
    "from sklearn.model_selection import train_test_split\n",
    "import numpy as np\n",
    "from sklearn.metrics import mean_squared_error,r2_score\n",
    "from sklearn.model_selection import KFold\n",
    "import pandas as pd\n",
    "from sklearn import metrics\n",
    "import matplotlib.pyplot as plt\n",
    "import seaborn as sns\n",
    "from sklearn.preprocessing import StandardScaler"
   ]
  },
  {
   "cell_type": "code",
   "execution_count": 417,
   "metadata": {},
   "outputs": [],
   "source": [
    "#!/usr/bin/env python\n",
    "# coding: utf-8\n",
    "\n",
    "# In[ ]:\n",
    "import numpy as np\n",
    "\n",
    "\n",
    "\n",
    "def add_gausian(y,mu,sigma):\n",
    "    noise = np.random.normal(mu,sigma,[966, 117])\n",
    "    df_aug = df_train_set +noise \n",
    "    #df_new = pd.concat([df_train_set,df_aug])\n",
    "    return(df_aug)\n",
    "\n",
    "def drop_corr(df):\n",
    "    '''Function drops highly correlated columns above a 0.95 threshold and outputs a new dataframe.\n",
    "\n",
    "    Input:\n",
    "        df: pandas DataFrame\n",
    "        '''\n",
    "    import numpy as np\n",
    "    corr_matrix = df.corr().abs()\n",
    "    upper = corr_matrix.where(np.triu(np.ones(corr_matrix.shape),k=1).astype(np.bool))\n",
    "    to_drop = [column for column in upper.columns if any(upper[column]>0.95)]\n",
    "    df_new = df.drop(df[to_drop],axis = 1)\n",
    "    return(df_new)\n",
    "\n",
    "def model_eval(model):\n",
    "    model.fit(X_train,y_train)\n",
    "    pred = model.predict(X_test)\n",
    "    #model_score = model.score(X_test,y_test)\n",
    "    model_mse =  mse(y_test,pred)\n",
    "    model_r2 =r2(y_test,pred)\n",
    "    return(-model_mse, model_r2)"
   ]
  },
  {
   "cell_type": "code",
   "execution_count": 328,
   "metadata": {},
   "outputs": [
    {
     "data": {
      "text/html": [
       "<div>\n",
       "<style scoped>\n",
       "    .dataframe tbody tr th:only-of-type {\n",
       "        vertical-align: middle;\n",
       "    }\n",
       "\n",
       "    .dataframe tbody tr th {\n",
       "        vertical-align: top;\n",
       "    }\n",
       "\n",
       "    .dataframe thead th {\n",
       "        text-align: right;\n",
       "    }\n",
       "</style>\n",
       "<table border=\"1\" class=\"dataframe\">\n",
       "  <thead>\n",
       "    <tr style=\"text-align: right;\">\n",
       "      <th></th>\n",
       "      <th>Unnamed: 0</th>\n",
       "      <th>target_id</th>\n",
       "      <th>pAc</th>\n",
       "      <th>smiles</th>\n",
       "      <th>SlogP</th>\n",
       "      <th>SMR</th>\n",
       "      <th>LabuteASA</th>\n",
       "      <th>TPSA</th>\n",
       "      <th>AMW</th>\n",
       "      <th>ExactMW</th>\n",
       "      <th>...</th>\n",
       "      <th>MQN33</th>\n",
       "      <th>MQN34</th>\n",
       "      <th>MQN35</th>\n",
       "      <th>MQN36</th>\n",
       "      <th>MQN37</th>\n",
       "      <th>MQN38</th>\n",
       "      <th>MQN39</th>\n",
       "      <th>MQN40</th>\n",
       "      <th>MQN41</th>\n",
       "      <th>MQN42</th>\n",
       "    </tr>\n",
       "  </thead>\n",
       "  <tbody>\n",
       "    <tr>\n",
       "      <th>0</th>\n",
       "      <td>0</td>\n",
       "      <td>O00329</td>\n",
       "      <td>1.4</td>\n",
       "      <td>CS(=O)(=O)C1=CN=CC(=C1)C2=CC3=NC(=NN3C=C2)N</td>\n",
       "      <td>0.7770</td>\n",
       "      <td>73.7402</td>\n",
       "      <td>114.564286</td>\n",
       "      <td>103.24</td>\n",
       "      <td>289.320</td>\n",
       "      <td>289.063346</td>\n",
       "      <td>...</td>\n",
       "      <td>0</td>\n",
       "      <td>0</td>\n",
       "      <td>1</td>\n",
       "      <td>2</td>\n",
       "      <td>0</td>\n",
       "      <td>0</td>\n",
       "      <td>0</td>\n",
       "      <td>0</td>\n",
       "      <td>2</td>\n",
       "      <td>1</td>\n",
       "    </tr>\n",
       "    <tr>\n",
       "      <th>1</th>\n",
       "      <td>1</td>\n",
       "      <td>O00329</td>\n",
       "      <td>1.5</td>\n",
       "      <td>C1=CN2C(=NC(=N2)N)C=C1C3=CC(=CN=C3)S(=O)(=O)N</td>\n",
       "      <td>0.0209</td>\n",
       "      <td>72.0036</td>\n",
       "      <td>113.674613</td>\n",
       "      <td>129.26</td>\n",
       "      <td>290.308</td>\n",
       "      <td>290.058595</td>\n",
       "      <td>...</td>\n",
       "      <td>0</td>\n",
       "      <td>0</td>\n",
       "      <td>1</td>\n",
       "      <td>2</td>\n",
       "      <td>0</td>\n",
       "      <td>0</td>\n",
       "      <td>0</td>\n",
       "      <td>0</td>\n",
       "      <td>2</td>\n",
       "      <td>1</td>\n",
       "    </tr>\n",
       "    <tr>\n",
       "      <th>2</th>\n",
       "      <td>2</td>\n",
       "      <td>O00329</td>\n",
       "      <td>1.5</td>\n",
       "      <td>CC(C)NS(=O)(=O)C1=CN=CC(=C1)C2=CC3=NC(=NN3C=C2)N</td>\n",
       "      <td>1.0602</td>\n",
       "      <td>86.0879</td>\n",
       "      <td>132.979410</td>\n",
       "      <td>115.27</td>\n",
       "      <td>332.389</td>\n",
       "      <td>332.105545</td>\n",
       "      <td>...</td>\n",
       "      <td>0</td>\n",
       "      <td>0</td>\n",
       "      <td>1</td>\n",
       "      <td>2</td>\n",
       "      <td>0</td>\n",
       "      <td>0</td>\n",
       "      <td>0</td>\n",
       "      <td>0</td>\n",
       "      <td>2</td>\n",
       "      <td>1</td>\n",
       "    </tr>\n",
       "    <tr>\n",
       "      <th>3</th>\n",
       "      <td>3</td>\n",
       "      <td>O00329</td>\n",
       "      <td>1.5</td>\n",
       "      <td>CC1(CCN1S(=O)(=O)C2=CN=CC(=C2)C3=CC4=NC(=NN4C=...</td>\n",
       "      <td>1.5465</td>\n",
       "      <td>93.2182</td>\n",
       "      <td>144.913435</td>\n",
       "      <td>106.48</td>\n",
       "      <td>358.427</td>\n",
       "      <td>358.121195</td>\n",
       "      <td>...</td>\n",
       "      <td>0</td>\n",
       "      <td>1</td>\n",
       "      <td>1</td>\n",
       "      <td>2</td>\n",
       "      <td>0</td>\n",
       "      <td>0</td>\n",
       "      <td>0</td>\n",
       "      <td>0</td>\n",
       "      <td>2</td>\n",
       "      <td>1</td>\n",
       "    </tr>\n",
       "    <tr>\n",
       "      <th>4</th>\n",
       "      <td>4</td>\n",
       "      <td>O00329</td>\n",
       "      <td>1.5</td>\n",
       "      <td>CC(C)(C(F)(F)F)NS(=O)(=O)C1=CN=CC(=C1)C2=CC3=N...</td>\n",
       "      <td>1.9927</td>\n",
       "      <td>91.0859</td>\n",
       "      <td>151.840959</td>\n",
       "      <td>115.27</td>\n",
       "      <td>400.386</td>\n",
       "      <td>400.092929</td>\n",
       "      <td>...</td>\n",
       "      <td>0</td>\n",
       "      <td>0</td>\n",
       "      <td>1</td>\n",
       "      <td>2</td>\n",
       "      <td>0</td>\n",
       "      <td>0</td>\n",
       "      <td>0</td>\n",
       "      <td>0</td>\n",
       "      <td>2</td>\n",
       "      <td>1</td>\n",
       "    </tr>\n",
       "  </tbody>\n",
       "</table>\n",
       "<p>5 rows × 120 columns</p>\n",
       "</div>"
      ],
      "text/plain": [
       "   Unnamed: 0 target_id  pAc  \\\n",
       "0           0    O00329  1.4   \n",
       "1           1    O00329  1.5   \n",
       "2           2    O00329  1.5   \n",
       "3           3    O00329  1.5   \n",
       "4           4    O00329  1.5   \n",
       "\n",
       "                                              smiles   SlogP      SMR  \\\n",
       "0        CS(=O)(=O)C1=CN=CC(=C1)C2=CC3=NC(=NN3C=C2)N  0.7770  73.7402   \n",
       "1      C1=CN2C(=NC(=N2)N)C=C1C3=CC(=CN=C3)S(=O)(=O)N  0.0209  72.0036   \n",
       "2   CC(C)NS(=O)(=O)C1=CN=CC(=C1)C2=CC3=NC(=NN3C=C2)N  1.0602  86.0879   \n",
       "3  CC1(CCN1S(=O)(=O)C2=CN=CC(=C2)C3=CC4=NC(=NN4C=...  1.5465  93.2182   \n",
       "4  CC(C)(C(F)(F)F)NS(=O)(=O)C1=CN=CC(=C1)C2=CC3=N...  1.9927  91.0859   \n",
       "\n",
       "    LabuteASA    TPSA      AMW     ExactMW  ...  MQN33  MQN34  MQN35  MQN36  \\\n",
       "0  114.564286  103.24  289.320  289.063346  ...      0      0      1      2   \n",
       "1  113.674613  129.26  290.308  290.058595  ...      0      0      1      2   \n",
       "2  132.979410  115.27  332.389  332.105545  ...      0      0      1      2   \n",
       "3  144.913435  106.48  358.427  358.121195  ...      0      1      1      2   \n",
       "4  151.840959  115.27  400.386  400.092929  ...      0      0      1      2   \n",
       "\n",
       "   MQN37  MQN38  MQN39  MQN40  MQN41  MQN42  \n",
       "0      0      0      0      0      2      1  \n",
       "1      0      0      0      0      2      1  \n",
       "2      0      0      0      0      2      1  \n",
       "3      0      0      0      0      2      1  \n",
       "4      0      0      0      0      2      1  \n",
       "\n",
       "[5 rows x 120 columns]"
      ]
     },
     "execution_count": 328,
     "metadata": {},
     "output_type": "execute_result"
    }
   ],
   "source": [
    "\n",
    "#Data frame\n",
    "#pd.read_csv('~/Desktop/data/kinase_files/KinaseP00533.csv')\n",
    "df = pd.read_csv('~/Desktop/data/kinase_files/KinaseO00329.csv')\n",
    "df.head()"
   ]
  },
  {
   "cell_type": "code",
   "execution_count": 329,
   "metadata": {},
   "outputs": [
    {
     "data": {
      "text/plain": [
       "(1381, 120)"
      ]
     },
     "execution_count": 329,
     "metadata": {},
     "output_type": "execute_result"
    }
   ],
   "source": [
    "#Check the shape of the dataframe\n",
    "df.shape"
   ]
  },
  {
   "cell_type": "code",
   "execution_count": 449,
   "metadata": {},
   "outputs": [
    {
     "data": {
      "text/html": [
       "<div>\n",
       "<style scoped>\n",
       "    .dataframe tbody tr th:only-of-type {\n",
       "        vertical-align: middle;\n",
       "    }\n",
       "\n",
       "    .dataframe tbody tr th {\n",
       "        vertical-align: top;\n",
       "    }\n",
       "\n",
       "    .dataframe thead th {\n",
       "        text-align: right;\n",
       "    }\n",
       "</style>\n",
       "<table border=\"1\" class=\"dataframe\">\n",
       "  <thead>\n",
       "    <tr style=\"text-align: right;\">\n",
       "      <th></th>\n",
       "      <th>pAc</th>\n",
       "      <th>SlogP</th>\n",
       "      <th>SMR</th>\n",
       "      <th>TPSA</th>\n",
       "      <th>NumLipinskiHBA</th>\n",
       "      <th>NumLipinskiHBD</th>\n",
       "      <th>NumRotatableBonds</th>\n",
       "      <th>NumHBD</th>\n",
       "      <th>NumHBA</th>\n",
       "      <th>NumAmideBonds</th>\n",
       "      <th>...</th>\n",
       "      <th>MQN32</th>\n",
       "      <th>MQN33</th>\n",
       "      <th>MQN34</th>\n",
       "      <th>MQN35</th>\n",
       "      <th>MQN36</th>\n",
       "      <th>MQN37</th>\n",
       "      <th>MQN38</th>\n",
       "      <th>MQN39</th>\n",
       "      <th>MQN40</th>\n",
       "      <th>MQN41</th>\n",
       "    </tr>\n",
       "  </thead>\n",
       "  <tbody>\n",
       "    <tr>\n",
       "      <th>0</th>\n",
       "      <td>1.4</td>\n",
       "      <td>0.7770</td>\n",
       "      <td>73.7402</td>\n",
       "      <td>103.24</td>\n",
       "      <td>7</td>\n",
       "      <td>2</td>\n",
       "      <td>2</td>\n",
       "      <td>1</td>\n",
       "      <td>7</td>\n",
       "      <td>0</td>\n",
       "      <td>...</td>\n",
       "      <td>0</td>\n",
       "      <td>0</td>\n",
       "      <td>0</td>\n",
       "      <td>1</td>\n",
       "      <td>2</td>\n",
       "      <td>0</td>\n",
       "      <td>0</td>\n",
       "      <td>0</td>\n",
       "      <td>0</td>\n",
       "      <td>2</td>\n",
       "    </tr>\n",
       "    <tr>\n",
       "      <th>1</th>\n",
       "      <td>1.5</td>\n",
       "      <td>0.0209</td>\n",
       "      <td>72.0036</td>\n",
       "      <td>129.26</td>\n",
       "      <td>8</td>\n",
       "      <td>4</td>\n",
       "      <td>2</td>\n",
       "      <td>2</td>\n",
       "      <td>7</td>\n",
       "      <td>0</td>\n",
       "      <td>...</td>\n",
       "      <td>0</td>\n",
       "      <td>0</td>\n",
       "      <td>0</td>\n",
       "      <td>1</td>\n",
       "      <td>2</td>\n",
       "      <td>0</td>\n",
       "      <td>0</td>\n",
       "      <td>0</td>\n",
       "      <td>0</td>\n",
       "      <td>2</td>\n",
       "    </tr>\n",
       "    <tr>\n",
       "      <th>2</th>\n",
       "      <td>1.5</td>\n",
       "      <td>1.0602</td>\n",
       "      <td>86.0879</td>\n",
       "      <td>115.27</td>\n",
       "      <td>8</td>\n",
       "      <td>3</td>\n",
       "      <td>4</td>\n",
       "      <td>2</td>\n",
       "      <td>7</td>\n",
       "      <td>0</td>\n",
       "      <td>...</td>\n",
       "      <td>0</td>\n",
       "      <td>0</td>\n",
       "      <td>0</td>\n",
       "      <td>1</td>\n",
       "      <td>2</td>\n",
       "      <td>0</td>\n",
       "      <td>0</td>\n",
       "      <td>0</td>\n",
       "      <td>0</td>\n",
       "      <td>2</td>\n",
       "    </tr>\n",
       "    <tr>\n",
       "      <th>3</th>\n",
       "      <td>1.5</td>\n",
       "      <td>1.5465</td>\n",
       "      <td>93.2182</td>\n",
       "      <td>106.48</td>\n",
       "      <td>8</td>\n",
       "      <td>2</td>\n",
       "      <td>3</td>\n",
       "      <td>1</td>\n",
       "      <td>7</td>\n",
       "      <td>0</td>\n",
       "      <td>...</td>\n",
       "      <td>1</td>\n",
       "      <td>0</td>\n",
       "      <td>1</td>\n",
       "      <td>1</td>\n",
       "      <td>2</td>\n",
       "      <td>0</td>\n",
       "      <td>0</td>\n",
       "      <td>0</td>\n",
       "      <td>0</td>\n",
       "      <td>2</td>\n",
       "    </tr>\n",
       "    <tr>\n",
       "      <th>4</th>\n",
       "      <td>1.5</td>\n",
       "      <td>1.9927</td>\n",
       "      <td>91.0859</td>\n",
       "      <td>115.27</td>\n",
       "      <td>8</td>\n",
       "      <td>3</td>\n",
       "      <td>4</td>\n",
       "      <td>2</td>\n",
       "      <td>7</td>\n",
       "      <td>0</td>\n",
       "      <td>...</td>\n",
       "      <td>0</td>\n",
       "      <td>0</td>\n",
       "      <td>0</td>\n",
       "      <td>1</td>\n",
       "      <td>2</td>\n",
       "      <td>0</td>\n",
       "      <td>0</td>\n",
       "      <td>0</td>\n",
       "      <td>0</td>\n",
       "      <td>2</td>\n",
       "    </tr>\n",
       "  </tbody>\n",
       "</table>\n",
       "<p>5 rows × 91 columns</p>\n",
       "</div>"
      ],
      "text/plain": [
       "   pAc   SlogP      SMR    TPSA  NumLipinskiHBA  NumLipinskiHBD  \\\n",
       "0  1.4  0.7770  73.7402  103.24               7               2   \n",
       "1  1.5  0.0209  72.0036  129.26               8               4   \n",
       "2  1.5  1.0602  86.0879  115.27               8               3   \n",
       "3  1.5  1.5465  93.2182  106.48               8               2   \n",
       "4  1.5  1.9927  91.0859  115.27               8               3   \n",
       "\n",
       "   NumRotatableBonds  NumHBD  NumHBA  NumAmideBonds  ...  MQN32  MQN33  MQN34  \\\n",
       "0                  2       1       7              0  ...      0      0      0   \n",
       "1                  2       2       7              0  ...      0      0      0   \n",
       "2                  4       2       7              0  ...      0      0      0   \n",
       "3                  3       1       7              0  ...      1      0      1   \n",
       "4                  4       2       7              0  ...      0      0      0   \n",
       "\n",
       "   MQN35  MQN36  MQN37  MQN38  MQN39  MQN40  MQN41  \n",
       "0      1      2      0      0      0      0      2  \n",
       "1      1      2      0      0      0      0      2  \n",
       "2      1      2      0      0      0      0      2  \n",
       "3      1      2      0      0      0      0      2  \n",
       "4      1      2      0      0      0      0      2  \n",
       "\n",
       "[5 rows x 91 columns]"
      ]
     },
     "execution_count": 449,
     "metadata": {},
     "output_type": "execute_result"
    }
   ],
   "source": [
    "#Drop the highly correlated features\n",
    "drop_corr(df).head()"
   ]
  },
  {
   "cell_type": "code",
   "execution_count": 331,
   "metadata": {},
   "outputs": [
    {
     "data": {
      "text/plain": [
       "(1381, 93)"
      ]
     },
     "execution_count": 331,
     "metadata": {},
     "output_type": "execute_result"
    }
   ],
   "source": [
    "drop_corr(df).shape"
   ]
  },
  {
   "cell_type": "code",
   "execution_count": 332,
   "metadata": {},
   "outputs": [
    {
     "data": {
      "image/png": "[encoded data removed]",
      "text/plain": [
       "<Figure size 432x432 with 1 Axes>"
      ]
     },
     "metadata": {},
     "output_type": "display_data"
    }
   ],
   "source": [
    "#Plot distribution of the pAc with the density estimation function\n",
    "f, ax = plt.subplots(figsize=(6, 6))\n",
    "sns.distplot(df.pAc,color = 'black');\n",
    "sns.set_style(\"whitegrid\")"
   ]
  },
  {
   "cell_type": "code",
   "execution_count": 333,
   "metadata": {},
   "outputs": [
    {
     "data": {
      "image/png": "[encoded data removed]",
      "text/plain": [
       "<Figure size 360x432 with 1 Axes>"
      ]
     },
     "metadata": {},
     "output_type": "display_data"
    }
   ],
   "source": [
    "#Boxplot of pAc,It has a few outliers but the distribution in fairly normal\n",
    "f, ax = plt.subplots(figsize=(5, 6))\n",
    "sns.set_style(\"whitegrid\")\n",
    "data = df.pAc\n",
    "sns.boxplot(data=data);"
   ]
  },
  {
   "cell_type": "code",
   "execution_count": 334,
   "metadata": {},
   "outputs": [
    {
     "data": {
      "text/html": [
       "<div>\n",
       "<style scoped>\n",
       "    .dataframe tbody tr th:only-of-type {\n",
       "        vertical-align: middle;\n",
       "    }\n",
       "\n",
       "    .dataframe tbody tr th {\n",
       "        vertical-align: top;\n",
       "    }\n",
       "\n",
       "    .dataframe thead th {\n",
       "        text-align: right;\n",
       "    }\n",
       "</style>\n",
       "<table border=\"1\" class=\"dataframe\">\n",
       "  <thead>\n",
       "    <tr style=\"text-align: right;\">\n",
       "      <th></th>\n",
       "      <th>pAc</th>\n",
       "      <th>SlogP</th>\n",
       "      <th>SMR</th>\n",
       "      <th>LabuteASA</th>\n",
       "      <th>TPSA</th>\n",
       "      <th>AMW</th>\n",
       "      <th>ExactMW</th>\n",
       "      <th>NumLipinskiHBA</th>\n",
       "      <th>NumLipinskiHBD</th>\n",
       "      <th>NumRotatableBonds</th>\n",
       "      <th>...</th>\n",
       "      <th>MQN33</th>\n",
       "      <th>MQN34</th>\n",
       "      <th>MQN35</th>\n",
       "      <th>MQN36</th>\n",
       "      <th>MQN37</th>\n",
       "      <th>MQN38</th>\n",
       "      <th>MQN39</th>\n",
       "      <th>MQN40</th>\n",
       "      <th>MQN41</th>\n",
       "      <th>MQN42</th>\n",
       "    </tr>\n",
       "  </thead>\n",
       "  <tbody>\n",
       "    <tr>\n",
       "      <th>0</th>\n",
       "      <td>1.4</td>\n",
       "      <td>0.7770</td>\n",
       "      <td>73.7402</td>\n",
       "      <td>114.564286</td>\n",
       "      <td>103.24</td>\n",
       "      <td>289.320</td>\n",
       "      <td>289.063346</td>\n",
       "      <td>7</td>\n",
       "      <td>2</td>\n",
       "      <td>2</td>\n",
       "      <td>...</td>\n",
       "      <td>0</td>\n",
       "      <td>0</td>\n",
       "      <td>1</td>\n",
       "      <td>2</td>\n",
       "      <td>0</td>\n",
       "      <td>0</td>\n",
       "      <td>0</td>\n",
       "      <td>0</td>\n",
       "      <td>2</td>\n",
       "      <td>1</td>\n",
       "    </tr>\n",
       "    <tr>\n",
       "      <th>1</th>\n",
       "      <td>1.5</td>\n",
       "      <td>0.0209</td>\n",
       "      <td>72.0036</td>\n",
       "      <td>113.674613</td>\n",
       "      <td>129.26</td>\n",
       "      <td>290.308</td>\n",
       "      <td>290.058595</td>\n",
       "      <td>8</td>\n",
       "      <td>4</td>\n",
       "      <td>2</td>\n",
       "      <td>...</td>\n",
       "      <td>0</td>\n",
       "      <td>0</td>\n",
       "      <td>1</td>\n",
       "      <td>2</td>\n",
       "      <td>0</td>\n",
       "      <td>0</td>\n",
       "      <td>0</td>\n",
       "      <td>0</td>\n",
       "      <td>2</td>\n",
       "      <td>1</td>\n",
       "    </tr>\n",
       "    <tr>\n",
       "      <th>2</th>\n",
       "      <td>1.5</td>\n",
       "      <td>1.0602</td>\n",
       "      <td>86.0879</td>\n",
       "      <td>132.979410</td>\n",
       "      <td>115.27</td>\n",
       "      <td>332.389</td>\n",
       "      <td>332.105545</td>\n",
       "      <td>8</td>\n",
       "      <td>3</td>\n",
       "      <td>4</td>\n",
       "      <td>...</td>\n",
       "      <td>0</td>\n",
       "      <td>0</td>\n",
       "      <td>1</td>\n",
       "      <td>2</td>\n",
       "      <td>0</td>\n",
       "      <td>0</td>\n",
       "      <td>0</td>\n",
       "      <td>0</td>\n",
       "      <td>2</td>\n",
       "      <td>1</td>\n",
       "    </tr>\n",
       "    <tr>\n",
       "      <th>3</th>\n",
       "      <td>1.5</td>\n",
       "      <td>1.5465</td>\n",
       "      <td>93.2182</td>\n",
       "      <td>144.913435</td>\n",
       "      <td>106.48</td>\n",
       "      <td>358.427</td>\n",
       "      <td>358.121195</td>\n",
       "      <td>8</td>\n",
       "      <td>2</td>\n",
       "      <td>3</td>\n",
       "      <td>...</td>\n",
       "      <td>0</td>\n",
       "      <td>1</td>\n",
       "      <td>1</td>\n",
       "      <td>2</td>\n",
       "      <td>0</td>\n",
       "      <td>0</td>\n",
       "      <td>0</td>\n",
       "      <td>0</td>\n",
       "      <td>2</td>\n",
       "      <td>1</td>\n",
       "    </tr>\n",
       "    <tr>\n",
       "      <th>4</th>\n",
       "      <td>1.5</td>\n",
       "      <td>1.9927</td>\n",
       "      <td>91.0859</td>\n",
       "      <td>151.840959</td>\n",
       "      <td>115.27</td>\n",
       "      <td>400.386</td>\n",
       "      <td>400.092929</td>\n",
       "      <td>8</td>\n",
       "      <td>3</td>\n",
       "      <td>4</td>\n",
       "      <td>...</td>\n",
       "      <td>0</td>\n",
       "      <td>0</td>\n",
       "      <td>1</td>\n",
       "      <td>2</td>\n",
       "      <td>0</td>\n",
       "      <td>0</td>\n",
       "      <td>0</td>\n",
       "      <td>0</td>\n",
       "      <td>2</td>\n",
       "      <td>1</td>\n",
       "    </tr>\n",
       "  </tbody>\n",
       "</table>\n",
       "<p>5 rows × 117 columns</p>\n",
       "</div>"
      ],
      "text/plain": [
       "   pAc   SlogP      SMR   LabuteASA    TPSA      AMW     ExactMW  \\\n",
       "0  1.4  0.7770  73.7402  114.564286  103.24  289.320  289.063346   \n",
       "1  1.5  0.0209  72.0036  113.674613  129.26  290.308  290.058595   \n",
       "2  1.5  1.0602  86.0879  132.979410  115.27  332.389  332.105545   \n",
       "3  1.5  1.5465  93.2182  144.913435  106.48  358.427  358.121195   \n",
       "4  1.5  1.9927  91.0859  151.840959  115.27  400.386  400.092929   \n",
       "\n",
       "   NumLipinskiHBA  NumLipinskiHBD  NumRotatableBonds  ...  MQN33  MQN34  \\\n",
       "0               7               2                  2  ...      0      0   \n",
       "1               8               4                  2  ...      0      0   \n",
       "2               8               3                  4  ...      0      0   \n",
       "3               8               2                  3  ...      0      1   \n",
       "4               8               3                  4  ...      0      0   \n",
       "\n",
       "   MQN35  MQN36  MQN37  MQN38  MQN39  MQN40  MQN41  MQN42  \n",
       "0      1      2      0      0      0      0      2      1  \n",
       "1      1      2      0      0      0      0      2      1  \n",
       "2      1      2      0      0      0      0      2      1  \n",
       "3      1      2      0      0      0      0      2      1  \n",
       "4      1      2      0      0      0      0      2      1  \n",
       "\n",
       "[5 rows x 117 columns]"
      ]
     },
     "execution_count": 334,
     "metadata": {},
     "output_type": "execute_result"
    }
   ],
   "source": [
    "#Drop unwanted colum(unnamed)\n",
    "df = df.drop(['Unnamed: 0','smiles','target_id'], axis=1)\n",
    "df.head()"
   ]
  },
  {
   "cell_type": "markdown",
   "metadata": {},
   "source": [
    "###### Standardize the dataframe"
   ]
  },
  {
   "cell_type": "code",
   "execution_count": 335,
   "metadata": {},
   "outputs": [
    {
     "data": {
      "text/html": [
       "<div>\n",
       "<style scoped>\n",
       "    .dataframe tbody tr th:only-of-type {\n",
       "        vertical-align: middle;\n",
       "    }\n",
       "\n",
       "    .dataframe tbody tr th {\n",
       "        vertical-align: top;\n",
       "    }\n",
       "\n",
       "    .dataframe thead th {\n",
       "        text-align: right;\n",
       "    }\n",
       "</style>\n",
       "<table border=\"1\" class=\"dataframe\">\n",
       "  <thead>\n",
       "    <tr style=\"text-align: right;\">\n",
       "      <th></th>\n",
       "      <th>pAc</th>\n",
       "      <th>SlogP</th>\n",
       "      <th>SMR</th>\n",
       "      <th>LabuteASA</th>\n",
       "      <th>TPSA</th>\n",
       "      <th>AMW</th>\n",
       "      <th>ExactMW</th>\n",
       "      <th>NumLipinskiHBA</th>\n",
       "      <th>NumLipinskiHBD</th>\n",
       "      <th>NumRotatableBonds</th>\n",
       "      <th>...</th>\n",
       "      <th>MQN33</th>\n",
       "      <th>MQN34</th>\n",
       "      <th>MQN35</th>\n",
       "      <th>MQN36</th>\n",
       "      <th>MQN37</th>\n",
       "      <th>MQN38</th>\n",
       "      <th>MQN39</th>\n",
       "      <th>MQN40</th>\n",
       "      <th>MQN41</th>\n",
       "      <th>MQN42</th>\n",
       "    </tr>\n",
       "  </thead>\n",
       "  <tbody>\n",
       "    <tr>\n",
       "      <th>0</th>\n",
       "      <td>-4.160605</td>\n",
       "      <td>-1.830225</td>\n",
       "      <td>-1.654739</td>\n",
       "      <td>-1.606846</td>\n",
       "      <td>0.470951</td>\n",
       "      <td>-1.427219</td>\n",
       "      <td>-1.426878</td>\n",
       "      <td>-0.313097</td>\n",
       "      <td>0.332085</td>\n",
       "      <td>-1.136722</td>\n",
       "      <td>...</td>\n",
       "      <td>-0.144184</td>\n",
       "      <td>-0.161254</td>\n",
       "      <td>-0.290001</td>\n",
       "      <td>-0.899476</td>\n",
       "      <td>-0.299961</td>\n",
       "      <td>0.0</td>\n",
       "      <td>0.0</td>\n",
       "      <td>0.0</td>\n",
       "      <td>-0.395927</td>\n",
       "      <td>-0.392209</td>\n",
       "    </tr>\n",
       "    <tr>\n",
       "      <th>1</th>\n",
       "      <td>-4.084183</td>\n",
       "      <td>-2.477969</td>\n",
       "      <td>-1.733497</td>\n",
       "      <td>-1.632775</td>\n",
       "      <td>1.466086</td>\n",
       "      <td>-1.415295</td>\n",
       "      <td>-1.414855</td>\n",
       "      <td>0.207224</td>\n",
       "      <td>1.855706</td>\n",
       "      <td>-1.136722</td>\n",
       "      <td>...</td>\n",
       "      <td>-0.144184</td>\n",
       "      <td>-0.161254</td>\n",
       "      <td>-0.290001</td>\n",
       "      <td>-0.899476</td>\n",
       "      <td>-0.299961</td>\n",
       "      <td>0.0</td>\n",
       "      <td>0.0</td>\n",
       "      <td>0.0</td>\n",
       "      <td>-0.395927</td>\n",
       "      <td>-0.392209</td>\n",
       "    </tr>\n",
       "    <tr>\n",
       "      <th>2</th>\n",
       "      <td>-4.084183</td>\n",
       "      <td>-1.587610</td>\n",
       "      <td>-1.094741</td>\n",
       "      <td>-1.070147</td>\n",
       "      <td>0.931038</td>\n",
       "      <td>-0.907449</td>\n",
       "      <td>-0.906947</td>\n",
       "      <td>0.207224</td>\n",
       "      <td>1.093896</td>\n",
       "      <td>0.005791</td>\n",
       "      <td>...</td>\n",
       "      <td>-0.144184</td>\n",
       "      <td>-0.161254</td>\n",
       "      <td>-0.290001</td>\n",
       "      <td>-0.899476</td>\n",
       "      <td>-0.299961</td>\n",
       "      <td>0.0</td>\n",
       "      <td>0.0</td>\n",
       "      <td>0.0</td>\n",
       "      <td>-0.395927</td>\n",
       "      <td>-0.392209</td>\n",
       "    </tr>\n",
       "    <tr>\n",
       "      <th>3</th>\n",
       "      <td>-4.084183</td>\n",
       "      <td>-1.171001</td>\n",
       "      <td>-0.771365</td>\n",
       "      <td>-0.722336</td>\n",
       "      <td>0.594865</td>\n",
       "      <td>-0.593214</td>\n",
       "      <td>-0.592690</td>\n",
       "      <td>0.207224</td>\n",
       "      <td>0.332085</td>\n",
       "      <td>-0.565466</td>\n",
       "      <td>...</td>\n",
       "      <td>-0.144184</td>\n",
       "      <td>6.201382</td>\n",
       "      <td>-0.290001</td>\n",
       "      <td>-0.899476</td>\n",
       "      <td>-0.299961</td>\n",
       "      <td>0.0</td>\n",
       "      <td>0.0</td>\n",
       "      <td>0.0</td>\n",
       "      <td>-0.395927</td>\n",
       "      <td>-0.392209</td>\n",
       "    </tr>\n",
       "    <tr>\n",
       "      <th>4</th>\n",
       "      <td>-4.084183</td>\n",
       "      <td>-0.788746</td>\n",
       "      <td>-0.868070</td>\n",
       "      <td>-0.520437</td>\n",
       "      <td>0.931038</td>\n",
       "      <td>-0.086841</td>\n",
       "      <td>-0.085690</td>\n",
       "      <td>0.207224</td>\n",
       "      <td>1.093896</td>\n",
       "      <td>0.005791</td>\n",
       "      <td>...</td>\n",
       "      <td>-0.144184</td>\n",
       "      <td>-0.161254</td>\n",
       "      <td>-0.290001</td>\n",
       "      <td>-0.899476</td>\n",
       "      <td>-0.299961</td>\n",
       "      <td>0.0</td>\n",
       "      <td>0.0</td>\n",
       "      <td>0.0</td>\n",
       "      <td>-0.395927</td>\n",
       "      <td>-0.392209</td>\n",
       "    </tr>\n",
       "  </tbody>\n",
       "</table>\n",
       "<p>5 rows × 117 columns</p>\n",
       "</div>"
      ],
      "text/plain": [
       "        pAc     SlogP       SMR  LabuteASA      TPSA       AMW   ExactMW  \\\n",
       "0 -4.160605 -1.830225 -1.654739  -1.606846  0.470951 -1.427219 -1.426878   \n",
       "1 -4.084183 -2.477969 -1.733497  -1.632775  1.466086 -1.415295 -1.414855   \n",
       "2 -4.084183 -1.587610 -1.094741  -1.070147  0.931038 -0.907449 -0.906947   \n",
       "3 -4.084183 -1.171001 -0.771365  -0.722336  0.594865 -0.593214 -0.592690   \n",
       "4 -4.084183 -0.788746 -0.868070  -0.520437  0.931038 -0.086841 -0.085690   \n",
       "\n",
       "   NumLipinskiHBA  NumLipinskiHBD  NumRotatableBonds  ...     MQN33     MQN34  \\\n",
       "0       -0.313097        0.332085          -1.136722  ... -0.144184 -0.161254   \n",
       "1        0.207224        1.855706          -1.136722  ... -0.144184 -0.161254   \n",
       "2        0.207224        1.093896           0.005791  ... -0.144184 -0.161254   \n",
       "3        0.207224        0.332085          -0.565466  ... -0.144184  6.201382   \n",
       "4        0.207224        1.093896           0.005791  ... -0.144184 -0.161254   \n",
       "\n",
       "      MQN35     MQN36     MQN37  MQN38  MQN39  MQN40     MQN41     MQN42  \n",
       "0 -0.290001 -0.899476 -0.299961    0.0    0.0    0.0 -0.395927 -0.392209  \n",
       "1 -0.290001 -0.899476 -0.299961    0.0    0.0    0.0 -0.395927 -0.392209  \n",
       "2 -0.290001 -0.899476 -0.299961    0.0    0.0    0.0 -0.395927 -0.392209  \n",
       "3 -0.290001 -0.899476 -0.299961    0.0    0.0    0.0 -0.395927 -0.392209  \n",
       "4 -0.290001 -0.899476 -0.299961    0.0    0.0    0.0 -0.395927 -0.392209  \n",
       "\n",
       "[5 rows x 117 columns]"
      ]
     },
     "execution_count": 335,
     "metadata": {},
     "output_type": "execute_result"
    }
   ],
   "source": [
    "# Get column names first\n",
    "names = df.columns\n",
    "# Create the Scaler object\n",
    "scaler = StandardScaler()\n",
    "# Fit your data on the scaler object\n",
    "scaled_df = scaler.fit_transform(df)\n",
    "scaled_df = pd.DataFrame(scaled_df, columns=names)\n",
    "scaled_df.head()"
   ]
  },
  {
   "cell_type": "code",
   "execution_count": 336,
   "metadata": {},
   "outputs": [
    {
     "data": {
      "image/png": "[encoded data removed]",
      "text/plain": [
       "<Figure size 432x432 with 1 Axes>"
      ]
     },
     "metadata": {},
     "output_type": "display_data"
    }
   ],
   "source": [
    "#Plot distribution of the pAc with the density estimation function after scaling\n",
    "f, ax = plt.subplots(figsize=(6, 6))\n",
    "sns.distplot(scaled_df.pAc,color = 'black');\n",
    "sns.set_style(\"whitegrid\")"
   ]
  },
  {
   "cell_type": "code",
   "execution_count": 337,
   "metadata": {},
   "outputs": [
    {
     "data": {
      "image/png": "[encoded data removed]",
      "text/plain": [
       "<Figure size 360x432 with 1 Axes>"
      ]
     },
     "metadata": {},
     "output_type": "display_data"
    }
   ],
   "source": [
    "#Boxplot of pAc,It has a few outliers but the distribution in fairly normal\n",
    "f, ax = plt.subplots(figsize=(5, 6))\n",
    "sns.set_style(\"whitegrid\")\n",
    "data = scaled_df.pAc\n",
    "sns.boxplot(data=data);"
   ]
  },
  {
   "cell_type": "code",
   "execution_count": 338,
   "metadata": {},
   "outputs": [
    {
     "data": {
      "text/plain": [
       "(1381, 117)"
      ]
     },
     "execution_count": 338,
     "metadata": {},
     "output_type": "execute_result"
    }
   ],
   "source": [
    "scaled_df.shape"
   ]
  },
  {
   "cell_type": "code",
   "execution_count": 339,
   "metadata": {},
   "outputs": [],
   "source": [
    "# Get the feature vector\n",
    "X = scaled_df.drop(columns=['pAc'],axis=1)\n",
    "# Get the target vector\n",
    "y = scaled_df[\"pAc\"]"
   ]
  },
  {
   "cell_type": "code",
   "execution_count": 340,
   "metadata": {},
   "outputs": [],
   "source": [
    "X_train, X_test, y_train, y_test = train_test_split(X, y, test_size=0.3,random_state=42)"
   ]
  },
  {
   "cell_type": "code",
   "execution_count": 341,
   "metadata": {},
   "outputs": [
    {
     "data": {
      "text/plain": [
       "((966, 116), (415, 116), (966,), (415,))"
      ]
     },
     "execution_count": 341,
     "metadata": {},
     "output_type": "execute_result"
    }
   ],
   "source": [
    "#Check the shape of the training and testing data \n",
    "X_train.shape, X_test.shape, y_train.shape, y_test.shape "
   ]
  },
  {
   "cell_type": "markdown",
   "metadata": {},
   "source": [
    "###### Add the X_train and y_train to form a a training set for augmentation"
   ]
  },
  {
   "cell_type": "code",
   "execution_count": 342,
   "metadata": {},
   "outputs": [
    {
     "data": {
      "text/html": [
       "<div>\n",
       "<style scoped>\n",
       "    .dataframe tbody tr th:only-of-type {\n",
       "        vertical-align: middle;\n",
       "    }\n",
       "\n",
       "    .dataframe tbody tr th {\n",
       "        vertical-align: top;\n",
       "    }\n",
       "\n",
       "    .dataframe thead th {\n",
       "        text-align: right;\n",
       "    }\n",
       "</style>\n",
       "<table border=\"1\" class=\"dataframe\">\n",
       "  <thead>\n",
       "    <tr style=\"text-align: right;\">\n",
       "      <th></th>\n",
       "      <th>SlogP</th>\n",
       "      <th>SMR</th>\n",
       "      <th>LabuteASA</th>\n",
       "      <th>TPSA</th>\n",
       "      <th>AMW</th>\n",
       "      <th>ExactMW</th>\n",
       "      <th>NumLipinskiHBA</th>\n",
       "      <th>NumLipinskiHBD</th>\n",
       "      <th>NumRotatableBonds</th>\n",
       "      <th>NumHBD</th>\n",
       "      <th>...</th>\n",
       "      <th>MQN34</th>\n",
       "      <th>MQN35</th>\n",
       "      <th>MQN36</th>\n",
       "      <th>MQN37</th>\n",
       "      <th>MQN38</th>\n",
       "      <th>MQN39</th>\n",
       "      <th>MQN40</th>\n",
       "      <th>MQN41</th>\n",
       "      <th>MQN42</th>\n",
       "      <th>pAc</th>\n",
       "    </tr>\n",
       "  </thead>\n",
       "  <tbody>\n",
       "    <tr>\n",
       "      <th>482</th>\n",
       "      <td>-0.922904</td>\n",
       "      <td>-0.713713</td>\n",
       "      <td>-0.697675</td>\n",
       "      <td>-0.153973</td>\n",
       "      <td>-0.209273</td>\n",
       "      <td>-0.219099</td>\n",
       "      <td>-0.313097</td>\n",
       "      <td>0.332085</td>\n",
       "      <td>-0.565466</td>\n",
       "      <td>0.852053</td>\n",
       "      <td>...</td>\n",
       "      <td>-0.161254</td>\n",
       "      <td>-0.290001</td>\n",
       "      <td>0.032389</td>\n",
       "      <td>-0.299961</td>\n",
       "      <td>0.0</td>\n",
       "      <td>0.0</td>\n",
       "      <td>0.0</td>\n",
       "      <td>-0.395927</td>\n",
       "      <td>-0.392209</td>\n",
       "      <td>-0.377733</td>\n",
       "    </tr>\n",
       "    <tr>\n",
       "      <th>59</th>\n",
       "      <td>-0.543475</td>\n",
       "      <td>-1.995144</td>\n",
       "      <td>-2.137918</td>\n",
       "      <td>-1.307824</td>\n",
       "      <td>-2.139538</td>\n",
       "      <td>-2.139580</td>\n",
       "      <td>-1.874059</td>\n",
       "      <td>0.332085</td>\n",
       "      <td>-1.707979</td>\n",
       "      <td>-0.187421</td>\n",
       "      <td>...</td>\n",
       "      <td>-0.161254</td>\n",
       "      <td>0.938501</td>\n",
       "      <td>-1.831341</td>\n",
       "      <td>-0.299961</td>\n",
       "      <td>0.0</td>\n",
       "      <td>0.0</td>\n",
       "      <td>0.0</td>\n",
       "      <td>-0.395927</td>\n",
       "      <td>-0.392209</td>\n",
       "      <td>-1.715112</td>\n",
       "    </tr>\n",
       "    <tr>\n",
       "      <th>405</th>\n",
       "      <td>-0.655102</td>\n",
       "      <td>-1.303757</td>\n",
       "      <td>-1.395656</td>\n",
       "      <td>-0.041150</td>\n",
       "      <td>-1.499448</td>\n",
       "      <td>-1.498389</td>\n",
       "      <td>-0.833417</td>\n",
       "      <td>1.093896</td>\n",
       "      <td>-0.565466</td>\n",
       "      <td>0.852053</td>\n",
       "      <td>...</td>\n",
       "      <td>-0.161254</td>\n",
       "      <td>-0.290001</td>\n",
       "      <td>-0.899476</td>\n",
       "      <td>-0.299961</td>\n",
       "      <td>0.0</td>\n",
       "      <td>0.0</td>\n",
       "      <td>0.0</td>\n",
       "      <td>-0.395927</td>\n",
       "      <td>-0.392209</td>\n",
       "      <td>-0.515292</td>\n",
       "    </tr>\n",
       "    <tr>\n",
       "      <th>464</th>\n",
       "      <td>1.000299</td>\n",
       "      <td>0.064610</td>\n",
       "      <td>0.341362</td>\n",
       "      <td>0.393313</td>\n",
       "      <td>0.578364</td>\n",
       "      <td>0.579499</td>\n",
       "      <td>-0.313097</td>\n",
       "      <td>1.093896</td>\n",
       "      <td>0.005791</td>\n",
       "      <td>0.852053</td>\n",
       "      <td>...</td>\n",
       "      <td>-0.161254</td>\n",
       "      <td>0.938501</td>\n",
       "      <td>-1.831341</td>\n",
       "      <td>-0.299961</td>\n",
       "      <td>0.0</td>\n",
       "      <td>0.0</td>\n",
       "      <td>0.0</td>\n",
       "      <td>-1.980782</td>\n",
       "      <td>-1.971335</td>\n",
       "      <td>-0.408301</td>\n",
       "    </tr>\n",
       "    <tr>\n",
       "      <th>1302</th>\n",
       "      <td>1.607178</td>\n",
       "      <td>1.462774</td>\n",
       "      <td>1.286229</td>\n",
       "      <td>-1.020604</td>\n",
       "      <td>0.990642</td>\n",
       "      <td>0.992153</td>\n",
       "      <td>0.207224</td>\n",
       "      <td>-1.191535</td>\n",
       "      <td>0.577048</td>\n",
       "      <td>-1.226896</td>\n",
       "      <td>...</td>\n",
       "      <td>6.201382</td>\n",
       "      <td>0.938501</td>\n",
       "      <td>-0.899476</td>\n",
       "      <td>3.333772</td>\n",
       "      <td>0.0</td>\n",
       "      <td>0.0</td>\n",
       "      <td>0.0</td>\n",
       "      <td>1.188928</td>\n",
       "      <td>1.186918</td>\n",
       "      <td>1.517525</td>\n",
       "    </tr>\n",
       "  </tbody>\n",
       "</table>\n",
       "<p>5 rows × 117 columns</p>\n",
       "</div>"
      ],
      "text/plain": [
       "         SlogP       SMR  LabuteASA      TPSA       AMW   ExactMW  \\\n",
       "482  -0.922904 -0.713713  -0.697675 -0.153973 -0.209273 -0.219099   \n",
       "59   -0.543475 -1.995144  -2.137918 -1.307824 -2.139538 -2.139580   \n",
       "405  -0.655102 -1.303757  -1.395656 -0.041150 -1.499448 -1.498389   \n",
       "464   1.000299  0.064610   0.341362  0.393313  0.578364  0.579499   \n",
       "1302  1.607178  1.462774   1.286229 -1.020604  0.990642  0.992153   \n",
       "\n",
       "      NumLipinskiHBA  NumLipinskiHBD  NumRotatableBonds    NumHBD  ...  \\\n",
       "482        -0.313097        0.332085          -0.565466  0.852053  ...   \n",
       "59         -1.874059        0.332085          -1.707979 -0.187421  ...   \n",
       "405        -0.833417        1.093896          -0.565466  0.852053  ...   \n",
       "464        -0.313097        1.093896           0.005791  0.852053  ...   \n",
       "1302        0.207224       -1.191535           0.577048 -1.226896  ...   \n",
       "\n",
       "         MQN34     MQN35     MQN36     MQN37  MQN38  MQN39  MQN40     MQN41  \\\n",
       "482  -0.161254 -0.290001  0.032389 -0.299961    0.0    0.0    0.0 -0.395927   \n",
       "59   -0.161254  0.938501 -1.831341 -0.299961    0.0    0.0    0.0 -0.395927   \n",
       "405  -0.161254 -0.290001 -0.899476 -0.299961    0.0    0.0    0.0 -0.395927   \n",
       "464  -0.161254  0.938501 -1.831341 -0.299961    0.0    0.0    0.0 -1.980782   \n",
       "1302  6.201382  0.938501 -0.899476  3.333772    0.0    0.0    0.0  1.188928   \n",
       "\n",
       "         MQN42       pAc  \n",
       "482  -0.392209 -0.377733  \n",
       "59   -0.392209 -1.715112  \n",
       "405  -0.392209 -0.515292  \n",
       "464  -1.971335 -0.408301  \n",
       "1302  1.186918  1.517525  \n",
       "\n",
       "[5 rows x 117 columns]"
      ]
     },
     "execution_count": 342,
     "metadata": {},
     "output_type": "execute_result"
    }
   ],
   "source": [
    "df_train_set = pd.concat([X_train, y_train], axis = 1)\n",
    "df_train_set.head()"
   ]
  },
  {
   "cell_type": "code",
   "execution_count": 362,
   "metadata": {},
   "outputs": [],
   "source": [
    "#Assign df0 to df_train_set\n",
    "df0 = df_train_set"
   ]
  },
  {
   "cell_type": "code",
   "execution_count": 363,
   "metadata": {},
   "outputs": [
    {
     "data": {
      "text/plain": [
       "(966, 117)"
      ]
     },
     "execution_count": 363,
     "metadata": {},
     "output_type": "execute_result"
    }
   ],
   "source": [
    "#The shape of the training set\n",
    "df0.shape"
   ]
  },
  {
   "cell_type": "code",
   "execution_count": 364,
   "metadata": {},
   "outputs": [],
   "source": [
    "# Get the feature vector\n",
    "X0 = df0.drop(columns=['pAc'],axis=1).values\n",
    "# Get the target vector\n",
    "y0 = df0[\"pAc\"].values"
   ]
  },
  {
   "cell_type": "code",
   "execution_count": 365,
   "metadata": {},
   "outputs": [],
   "source": [
    "X0_train, X0_test, y0_train, y0_test = train_test_split(X0, y0, test_size=0.3,random_state=42)"
   ]
  },
  {
   "cell_type": "markdown",
   "metadata": {},
   "source": [
    "VALIDATION SET FOR EXTERNAL VALIDATION"
   ]
  },
  {
   "cell_type": "code",
   "execution_count": 367,
   "metadata": {},
   "outputs": [],
   "source": [
    "X_test_val = X_test\n",
    "y_test_val = y_test"
   ]
  },
  {
   "cell_type": "code",
   "execution_count": 368,
   "metadata": {},
   "outputs": [],
   "source": [
    "from sklearn.svm import SVR\n",
    "from sklearn.model_selection import GridSearchCV \n"
   ]
  },
  {
   "cell_type": "code",
   "execution_count": 369,
   "metadata": {},
   "outputs": [],
   "source": [
    "svr = GridSearchCV(SVR(kernel='rbf',gamma=0.1),cv=6,\n",
    "param_grid = {'C':[1e0,1e1,1e2,1e-3],\n",
    "\"gamma\":np.logspace(-2,2,5)})"
   ]
  },
  {
   "cell_type": "code",
   "execution_count": 370,
   "metadata": {},
   "outputs": [
    {
     "name": "stderr",
     "output_type": "stream",
     "text": [
      "C:\\ProgramData\\Anaconda3\\envs\\my-rdkit-env\\lib\\site-packages\\sklearn\\model_selection\\_search.py:813: DeprecationWarning: The default of the `iid` parameter will change from True to False in version 0.22 and will be removed in 0.24. This will change numeric results when test-set sizes are unequal.\n",
      "  DeprecationWarning)\n"
     ]
    }
   ],
   "source": [
    "model0 = svr.fit(X0_train,y0_train)\n",
    "y0_pred = svr.predict(X0_test)"
   ]
  },
  {
   "cell_type": "markdown",
   "metadata": {},
   "source": [
    "###### score the training set"
   ]
  },
  {
   "cell_type": "code",
   "execution_count": 371,
   "metadata": {},
   "outputs": [
    {
     "name": "stdout",
     "output_type": "stream",
     "text": [
      "0.448367915106106\n",
      "0.6014092925343765\n"
     ]
    }
   ],
   "source": [
    "print(mean_squared_error(y0_test,y0_pred))\n",
    "print(r2_score(y0_test,y0_pred))"
   ]
  },
  {
   "cell_type": "code",
   "execution_count": 372,
   "metadata": {},
   "outputs": [],
   "source": [
    "#Plot of the true vs predicted values"
   ]
  },
  {
   "cell_type": "code",
   "execution_count": 373,
   "metadata": {},
   "outputs": [
    {
     "data": {
      "image/png": "[encoded data removed]",
      "text/plain": [
       "<Figure size 640x640 with 1 Axes>"
      ]
     },
     "metadata": {},
     "output_type": "display_data"
    },
    {
     "data": {
      "text/plain": [
       "<Figure size 432x288 with 0 Axes>"
      ]
     },
     "metadata": {},
     "output_type": "display_data"
    }
   ],
   "source": [
    "## The line / model\n",
    "plt.figure(figsize=(8, 8), dpi=80)\n",
    "plt.scatter(y0_test, y0_pred,color='red')\n",
    "#plt.plot(X_test,pred,color='blue',linewidth=3)\n",
    "plt.xticks(())\n",
    "plt.yticks(())\n",
    "plt.xlabel('True Values')\n",
    "plt.ylabel('Predictions')\n",
    "plt.show()\n",
    "plt.savefig('pic1.png')"
   ]
  },
  {
   "cell_type": "markdown",
   "metadata": {},
   "source": [
    "###### Scoring Using Cross Validation"
   ]
  },
  {
   "cell_type": "markdown",
   "metadata": {},
   "source": [
    "###### score the validation set"
   ]
  },
  {
   "cell_type": "code",
   "execution_count": 377,
   "metadata": {},
   "outputs": [
    {
     "name": "stdout",
     "output_type": "stream",
     "text": [
      "0.30126981063916947\n",
      "0.620770947419184\n"
     ]
    }
   ],
   "source": [
    "#valid_pred = svr.predict(X_test_val)\n",
    "valid_pred = model0.predict(X_test_val)\n",
    "print(mean_squared_error(y_test_val,valid_pred))\n",
    "print(r2_score(y_test_val,valid_pred))"
   ]
  },
  {
   "cell_type": "code",
   "execution_count": 378,
   "metadata": {},
   "outputs": [
    {
     "data": {
      "image/png": "[encoded data removed]",
      "text/plain": [
       "<Figure size 640x640 with 1 Axes>"
      ]
     },
     "metadata": {},
     "output_type": "display_data"
    },
    {
     "data": {
      "text/plain": [
       "<Figure size 432x288 with 0 Axes>"
      ]
     },
     "metadata": {},
     "output_type": "display_data"
    }
   ],
   "source": [
    "## The line / model\n",
    "plt.figure(figsize=(8, 8), dpi=80)\n",
    "plt.scatter(y_test_val, valid_pred,color='blue')\n",
    "#plt.plot(X_test,pred,color='blue',linewidth=3)\n",
    "plt.xticks(())\n",
    "plt.yticks(())\n",
    "plt.xlabel('True Values')\n",
    "plt.ylabel('Predictions')\n",
    "plt.show()\n",
    "plt.savefig('pic2.png')"
   ]
  },
  {
   "cell_type": "code",
   "execution_count": 401,
   "metadata": {},
   "outputs": [
    {
     "data": {
      "text/plain": [
       "(1932, 117)"
      ]
     },
     "execution_count": 401,
     "metadata": {},
     "output_type": "execute_result"
    }
   ],
   "source": [
    "#Add noise of 0.01 to the dataframe\n",
    "df1 = add_gausian(df0,0,0.1)\n",
    "\n",
    "df1.shape"
   ]
  },
  {
   "cell_type": "code",
   "execution_count": 432,
   "metadata": {},
   "outputs": [
    {
     "data": {
      "image/png": "[encoded data removed]",
      "text/plain": [
       "<Figure size 432x432 with 1 Axes>"
      ]
     },
     "metadata": {},
     "output_type": "display_data"
    }
   ],
   "source": [
    "#Plot distribution of the pAc with the density estimation function after scaling\n",
    "f, ax = plt.subplots(figsize=(6, 6))\n",
    "sns.distplot(df1.pAc,color = 'green');\n",
    "sns.set_style(\"whitegrid\")"
   ]
  },
  {
   "cell_type": "code",
   "execution_count": 380,
   "metadata": {},
   "outputs": [],
   "source": [
    "# Get the feature vector\n",
    "X1 = df1.drop(columns=['pAc'],axis=1).values\n",
    "# Get the target vector\n",
    "y1 = df1[\"pAc\"].values\n",
    "X1_train, X1_test, y1_train, y1_test = train_test_split(X1, y1, test_size=0.3,random_state=42)"
   ]
  },
  {
   "cell_type": "markdown",
   "metadata": {},
   "source": [
    "###### Fit the training data after first round of noise addition and evaluate the model"
   ]
  },
  {
   "cell_type": "code",
   "execution_count": 381,
   "metadata": {},
   "outputs": [
    {
     "name": "stdout",
     "output_type": "stream",
     "text": [
      "0.1919359990928922\n",
      "0.8240540260575736\n"
     ]
    }
   ],
   "source": [
    "model1 = svr.fit(X1_train,y1_train)\n",
    "y1_pred = svr.predict(X1_test)\n",
    "print(mean_squared_error(y1_test,y1_pred))\n",
    "print(r2_score(y1_test,y1_pred))"
   ]
  },
  {
   "cell_type": "code",
   "execution_count": 382,
   "metadata": {},
   "outputs": [
    {
     "data": {
      "image/png": "[encoded data removed]",
      "text/plain": [
       "<Figure size 640x640 with 1 Axes>"
      ]
     },
     "metadata": {},
     "output_type": "display_data"
    },
    {
     "data": {
      "text/plain": [
       "<Figure size 432x288 with 0 Axes>"
      ]
     },
     "metadata": {},
     "output_type": "display_data"
    }
   ],
   "source": [
    "plt.figure(figsize=(8, 8), dpi=80)\n",
    "plt.scatter(y1_test,y1_pred,color='red')\n",
    "#plt.plot(X_test,pred,color='blue',linewidth=3)\n",
    "plt.xticks(())\n",
    "plt.yticks(())\n",
    "plt.xlabel('True Values')\n",
    "plt.ylabel('Predictions')\n",
    "plt.show()\n",
    "plt.savefig('pic1.png')"
   ]
  },
  {
   "cell_type": "markdown",
   "metadata": {},
   "source": [
    "###### Prediction with Validation set "
   ]
  },
  {
   "cell_type": "code",
   "execution_count": 445,
   "metadata": {},
   "outputs": [
    {
     "name": "stdout",
     "output_type": "stream",
     "text": [
      "0.29317403181038165\n",
      "0.6309616616119917\n"
     ]
    }
   ],
   "source": [
    "#valid_pred = svr.predict(X_test_val)\n",
    "valid_pred1 = model1.predict(X_test_val)\n",
    "print(mean_squared_error(y_test_val,valid_pred1))\n",
    "print(r2_score(y_test_val,valid_pred1))"
   ]
  },
  {
   "cell_type": "code",
   "execution_count": 446,
   "metadata": {},
   "outputs": [
    {
     "data": {
      "image/png": "[encoded data removed]",
      "text/plain": [
       "<Figure size 640x640 with 1 Axes>"
      ]
     },
     "metadata": {},
     "output_type": "display_data"
    },
    {
     "data": {
      "text/plain": [
       "<Figure size 432x288 with 0 Axes>"
      ]
     },
     "metadata": {},
     "output_type": "display_data"
    }
   ],
   "source": [
    "## The line / model\n",
    "plt.figure(figsize=(8, 8), dpi=80)\n",
    "plt.scatter(y_test_val, valid_pred1,color='blue')\n",
    "#plt.plot(X_test,pred,color='blue',linewidth=3)\n",
    "plt.xticks(())\n",
    "plt.yticks(())\n",
    "plt.xlabel('True Values')\n",
    "plt.ylabel('Predictions')\n",
    "plt.show()"
   ]
  },
  {
   "cell_type": "code",
   "execution_count": null,
   "metadata": {},
   "outputs": [],
   "source": [
    "#Add noise 0.2 to original data frame and augment dataframe \n",
    "#Train and evaluate after augmentation"
   ]
  },
  {
   "cell_type": "code",
   "execution_count": 412,
   "metadata": {},
   "outputs": [
    {
     "data": {
      "text/plain": [
       "(2898, 117)"
      ]
     },
     "execution_count": 412,
     "metadata": {},
     "output_type": "execute_result"
    }
   ],
   "source": [
    "#Add noise of 0.02 to the dataframe\n",
    "noise = add_gausian(df0,0,0.2)\n",
    "df2=pd.concat([df0,noise])\n",
    "df2.shape"
   ]
  },
  {
   "cell_type": "code",
   "execution_count": 433,
   "metadata": {},
   "outputs": [
    {
     "data": {
      "image/png": "[encoded data removed]",
      "text/plain": [
       "<Figure size 432x432 with 1 Axes>"
      ]
     },
     "metadata": {},
     "output_type": "display_data"
    }
   ],
   "source": [
    "#Plot distribution of the pAc with the density estimation function after scaling\n",
    "f, ax = plt.subplots(figsize=(6, 6))\n",
    "sns.distplot(df2.pAc,color = 'red');\n",
    "sns.set_style(\"whitegrid\")"
   ]
  },
  {
   "cell_type": "code",
   "execution_count": 413,
   "metadata": {},
   "outputs": [],
   "source": [
    "# Get the feature vector\n",
    "#X = df.drop('smiles', 'mol', 'pAc', axis=1)\n",
    "X2 = df2.drop(columns=['pAc'],axis=1).values\n",
    "# Get the target vector\n",
    "y2 = df2[\"pAc\"].values\n",
    "X2_train, X2_test, y2_train, y2_test = train_test_split(X2, y2, test_size=0.3,random_state=42)"
   ]
  },
  {
   "cell_type": "code",
   "execution_count": 409,
   "metadata": {},
   "outputs": [
    {
     "name": "stdout",
     "output_type": "stream",
     "text": [
      "0.10684411806571428\n",
      "0.8971161968870812\n"
     ]
    }
   ],
   "source": [
    "model2 = svr.fit(X2_train,y2_train)\n",
    "y2_pred = svr.predict(X2_test)\n",
    "print(mean_squared_error(y2_test,y2_pred))\n",
    "print(r2_score(y2_test,y2_pred))"
   ]
  },
  {
   "cell_type": "code",
   "execution_count": 439,
   "metadata": {},
   "outputs": [
    {
     "data": {
      "image/png": "[encoded data removed]",
      "text/plain": [
       "<Figure size 640x640 with 1 Axes>"
      ]
     },
     "metadata": {},
     "output_type": "display_data"
    },
    {
     "data": {
      "text/plain": [
       "<Figure size 432x288 with 0 Axes>"
      ]
     },
     "metadata": {},
     "output_type": "display_data"
    }
   ],
   "source": [
    "## The line / model\n",
    "plt.figure(figsize=(8, 8), dpi=80)\n",
    "plt.scatter(y2_test, y2_pred,color='green')\n",
    "#plt.plot(X_test,pred,color='blue',linewidth=3)\n",
    "plt.xticks(())\n",
    "plt.yticks(())\n",
    "plt.xlabel('True Values')\n",
    "plt.ylabel('Predictions')\n",
    "plt.show()\n",
    "plt.savefig('pic1.png')"
   ]
  },
  {
   "cell_type": "code",
   "execution_count": 447,
   "metadata": {},
   "outputs": [
    {
     "name": "stdout",
     "output_type": "stream",
     "text": [
      "0.29317403181038165\n",
      "0.6309616616119917\n"
     ]
    }
   ],
   "source": [
    "#valid_pred = svr.predict(X_test_val)\n",
    "valid_pred2 = model2.predict(X_test_val)\n",
    "print(mean_squared_error(y_test_val,valid_pred2))\n",
    "print(r2_score(y_test_val,valid_pred2))"
   ]
  },
  {
   "cell_type": "code",
   "execution_count": 448,
   "metadata": {},
   "outputs": [
    {
     "data": {
      "image/png": "[encoded data removed]",
      "text/plain": [
       "<Figure size 640x640 with 1 Axes>"
      ]
     },
     "metadata": {},
     "output_type": "display_data"
    },
    {
     "data": {
      "text/plain": [
       "<Figure size 432x288 with 0 Axes>"
      ]
     },
     "metadata": {},
     "output_type": "display_data"
    }
   ],
   "source": [
    "## The line / model\n",
    "plt.figure(figsize=(8, 8), dpi=80)\n",
    "plt.scatter(y_test_val, valid_pred2,color='blue')\n",
    "#plt.plot(X_test,pred,color='blue',linewidth=3)\n",
    "plt.xticks(())\n",
    "plt.yticks(())\n",
    "plt.xlabel('True Values')\n",
    "plt.ylabel('Predictions')\n",
    "plt.show()\n",
    "plt.savefig('pic2.png')"
   ]
  },
  {
   "cell_type": "code",
   "execution_count": 419,
   "metadata": {},
   "outputs": [
    {
     "data": {
      "text/plain": [
       "(3864, 117)"
      ]
     },
     "execution_count": 419,
     "metadata": {},
     "output_type": "execute_result"
    }
   ],
   "source": [
    "#Add noise of 0.03 to the dataframe\n",
    "noise3 = add_gausian(df0,0,0.3)\n",
    "\n",
    "\n",
    "df3 = pd.concat([df2,noise3])\n",
    "df3.shape"
   ]
  },
  {
   "cell_type": "code",
   "execution_count": 434,
   "metadata": {},
   "outputs": [
    {
     "data": {
      "image/png": "[encoded data removed]",
      "text/plain": [
       "<Figure size 432x432 with 1 Axes>"
      ]
     },
     "metadata": {},
     "output_type": "display_data"
    }
   ],
   "source": [
    "#Plot distribution of the pAc with the density estimation function after scaling\n",
    "f, ax = plt.subplots(figsize=(6, 6))\n",
    "sns.distplot(df2.pAc,color = 'blue');\n",
    "sns.set_style(\"whitegrid\")"
   ]
  },
  {
   "cell_type": "code",
   "execution_count": 420,
   "metadata": {},
   "outputs": [],
   "source": [
    "# Get the feature vector\n",
    "#X = df.drop('smiles', 'mol', 'pAc', axis=1)\n",
    "X3 = df3.drop(columns=['pAc'],axis=1).values\n",
    "# Get the target vector\n",
    "y3 = df3[\"pAc\"].values\n",
    "X3_train, X3_test, y3_train, y3_test = train_test_split(X3, y3, test_size=0.3,random_state=42)"
   ]
  },
  {
   "cell_type": "code",
   "execution_count": 421,
   "metadata": {},
   "outputs": [
    {
     "name": "stdout",
     "output_type": "stream",
     "text": [
      "0.1294920736462641\n",
      "0.8852281006729049\n"
     ]
    }
   ],
   "source": [
    "model3 = svr.fit(X3_train,y3_train)\n",
    "y3_pred = svr.predict(X3_test)\n",
    "print(mean_squared_error(y3_test,y3_pred))\n",
    "print(r2_score(y3_test,y3_pred))"
   ]
  },
  {
   "cell_type": "code",
   "execution_count": 440,
   "metadata": {},
   "outputs": [
    {
     "data": {
      "image/png": "[encoded data removed]",
      "text/plain": [
       "<Figure size 640x640 with 1 Axes>"
      ]
     },
     "metadata": {},
     "output_type": "display_data"
    },
    {
     "data": {
      "text/plain": [
       "<Figure size 432x288 with 0 Axes>"
      ]
     },
     "metadata": {},
     "output_type": "display_data"
    }
   ],
   "source": [
    "## The line / model\n",
    "plt.figure(figsize=(8, 8), dpi=80)\n",
    "plt.scatter(y3_test, y3_pred,color='purple')\n",
    "#plt.plot(X_test,pred,color='blue',linewidth=3)\n",
    "plt.xticks(())\n",
    "plt.yticks(())\n",
    "plt.xlabel('True Values')\n",
    "plt.ylabel('Predictions')\n",
    "plt.show()\n",
    "plt.savefig('pic1.png')"
   ]
  },
  {
   "cell_type": "code",
   "execution_count": 422,
   "metadata": {},
   "outputs": [
    {
     "name": "stdout",
     "output_type": "stream",
     "text": [
      "0.34466921471951834\n",
      "0.5661411295258978\n"
     ]
    }
   ],
   "source": [
    "#valid_pred = svr.predict(X_test_val)\n",
    "valid_pred = model3.predict(X_test_val)\n",
    "print(mean_squared_error(y_test_val,valid_pred))\n",
    "print(r2_score(y_test_val,valid_pred))"
   ]
  },
  {
   "cell_type": "code",
   "execution_count": 423,
   "metadata": {},
   "outputs": [
    {
     "data": {
      "text/plain": [
       "(4830, 117)"
      ]
     },
     "execution_count": 423,
     "metadata": {},
     "output_type": "execute_result"
    }
   ],
   "source": [
    "#Add noise of 0.04 to the dataframe\n",
    "noise = add_gausian(df,0,0.4)\n",
    "df4 = pd.concat([df3,noise])\n",
    "df4.shape"
   ]
  },
  {
   "cell_type": "code",
   "execution_count": 436,
   "metadata": {},
   "outputs": [
    {
     "data": {
      "image/png": "[encoded data removed]",
      "text/plain": [
       "<Figure size 432x432 with 1 Axes>"
      ]
     },
     "metadata": {},
     "output_type": "display_data"
    }
   ],
   "source": [
    "#Plot distribution of the pAc with the density estimation function after scaling\n",
    "f, ax = plt.subplots(figsize=(6, 6))\n",
    "sns.distplot(df3.pAc,color = 'magenta');\n",
    "sns.set_style(\"whitegrid\")"
   ]
  },
  {
   "cell_type": "code",
   "execution_count": 424,
   "metadata": {},
   "outputs": [],
   "source": [
    "# Get the feature vector\n",
    "#X = df.drop('smiles', 'mol', 'pAc', axis=1)\n",
    "X4 = df4.drop(columns=['pAc'],axis=1).values\n",
    "# Get the target vector\n",
    "y4 = df4[\"pAc\"].values\n",
    "X4_train, X4_test, y4_train, y4_test = train_test_split(X4, y4, test_size=0.3,random_state=42)"
   ]
  },
  {
   "cell_type": "code",
   "execution_count": 425,
   "metadata": {},
   "outputs": [
    {
     "name": "stdout",
     "output_type": "stream",
     "text": [
      "0.16587494451276466\n",
      "0.8459081134880526\n"
     ]
    }
   ],
   "source": [
    "model4 = svr.fit(X4_train,y4_train)\n",
    "y4_pred = svr.predict(X4_test)\n",
    "print(mean_squared_error(y4_test,y4_pred))\n",
    "print(r2_score(y4_test,y4_pred))"
   ]
  },
  {
   "cell_type": "code",
   "execution_count": 442,
   "metadata": {},
   "outputs": [
    {
     "data": {
      "image/png": "[encoded data removed]",
      "text/plain": [
       "<Figure size 640x640 with 1 Axes>"
      ]
     },
     "metadata": {},
     "output_type": "display_data"
    },
    {
     "data": {
      "text/plain": [
       "<Figure size 432x288 with 0 Axes>"
      ]
     },
     "metadata": {},
     "output_type": "display_data"
    }
   ],
   "source": [
    "## The line / model\n",
    "plt.figure(figsize=(8, 8), dpi=80)\n",
    "plt.scatter(y4_test, y4_pred,color='aqua')\n",
    "#plt.plot(X_test,pred,color='blue',linewidth=3)\n",
    "plt.xticks(())\n",
    "plt.yticks(())\n",
    "plt.xlabel('True Values')\n",
    "plt.ylabel('Predictions')\n",
    "plt.show()\n",
    "plt.savefig('pic1.png')"
   ]
  },
  {
   "cell_type": "code",
   "execution_count": 426,
   "metadata": {},
   "outputs": [
    {
     "name": "stdout",
     "output_type": "stream",
     "text": [
      "0.2959478982628684\n",
      "0.6274700049321189\n"
     ]
    }
   ],
   "source": [
    "#valid_pred = svr.predict(X_test_val)\n",
    "valid_pred = model4.predict(X_test_val)\n",
    "print(mean_squared_error(y_test_val,valid_pred))\n",
    "print(r2_score(y_test_val,valid_pred))"
   ]
  },
  {
   "cell_type": "code",
   "execution_count": 427,
   "metadata": {},
   "outputs": [
    {
     "data": {
      "text/plain": [
       "(5796, 117)"
      ]
     },
     "execution_count": 427,
     "metadata": {},
     "output_type": "execute_result"
    }
   ],
   "source": [
    "#Add noise of 0.05 to the dataframe\n",
    "noise = add_gausian(df0,0,0.5)\n",
    "df5 = pd.concat([df4,noise])\n",
    "df5.shape"
   ]
  },
  {
   "cell_type": "code",
   "execution_count": 438,
   "metadata": {},
   "outputs": [
    {
     "data": {
      "image/png": "[encoded data removed]",
      "text/plain": [
       "<Figure size 432x432 with 1 Axes>"
      ]
     },
     "metadata": {},
     "output_type": "display_data"
    }
   ],
   "source": [
    "#Plot distribution of the pAc with the density estimation function after scaling\n",
    "f, ax = plt.subplots(figsize=(6, 6))\n",
    "sns.distplot(df5.pAc,color = 'aqua');\n",
    "sns.set_style(\"whitegrid\")"
   ]
  },
  {
   "cell_type": "code",
   "execution_count": 428,
   "metadata": {},
   "outputs": [],
   "source": [
    "# Get the feature vector\n",
    "#X = df.drop('smiles', 'mol', 'pAc', axis=1)\n",
    "X5 = df5.drop(columns=['pAc'],axis=1).values\n",
    "# Get the target vector\n",
    "y5 = df5[\"pAc\"].values\n",
    "X5_train, X5_test, y5_train, y5_test = train_test_split(X5, y5, test_size=0.3,random_state=42)"
   ]
  },
  {
   "cell_type": "code",
   "execution_count": 429,
   "metadata": {},
   "outputs": [
    {
     "name": "stdout",
     "output_type": "stream",
     "text": [
      "0.21329276677911746\n",
      "0.8249534443392685\n"
     ]
    }
   ],
   "source": [
    "model5 = svr.fit(X5_train,y5_train)\n",
    "y5_pred = svr.predict(X5_test)\n",
    "print(mean_squared_error(y5_test,y5_pred))\n",
    "print(r2_score(y5_test,y5_pred))"
   ]
  },
  {
   "cell_type": "code",
   "execution_count": 443,
   "metadata": {},
   "outputs": [
    {
     "data": {
      "image/png": "[encoded data removed]",
      "text/plain": [
       "<Figure size 640x640 with 1 Axes>"
      ]
     },
     "metadata": {},
     "output_type": "display_data"
    },
    {
     "data": {
      "text/plain": [
       "<Figure size 432x288 with 0 Axes>"
      ]
     },
     "metadata": {},
     "output_type": "display_data"
    }
   ],
   "source": [
    "## The line / model\n",
    "plt.figure(figsize=(8, 8), dpi=80)\n",
    "plt.scatter(y5_test, y5_pred,color='magenta')\n",
    "#plt.plot(X_test,pred,color='blue',linewidth=3)\n",
    "plt.xticks(())\n",
    "plt.yticks(())\n",
    "plt.xlabel('True Values')\n",
    "plt.ylabel('Predictions')\n",
    "plt.show()\n",
    "plt.savefig('pic1.png')"
   ]
  },
  {
   "cell_type": "code",
   "execution_count": 430,
   "metadata": {},
   "outputs": [
    {
     "name": "stdout",
     "output_type": "stream",
     "text": [
      "0.29317403181038165\n",
      "0.6309616616119917\n"
     ]
    }
   ],
   "source": [
    "#valid_pred = svr.predict(X_test_val)\n",
    "valid_pred = model5.predict(X_test_val)\n",
    "print(mean_squared_error(y_test_val,valid_pred))\n",
    "print(r2_score(y_test_val,valid_pred))"
   ]
  },
  {
   "cell_type": "code",
   "execution_count": null,
   "metadata": {},
   "outputs": [],
   "source": []
  }
 ],
 "metadata": {
  "kernelspec": {
   "display_name": "Python 3",
   "language": "python",
   "name": "python3"
  },
  "language_info": {
   "codemirror_mode": {
    "name": "ipython",
    "version": 3
   },
   "file_extension": ".py",
   "mimetype": "text/x-python",
   "name": "python",
   "nbconvert_exporter": "python",
   "pygments_lexer": "ipython3",
   "version": "3.6.8"
  }
 },
 "nbformat": 4,
 "nbformat_minor": 2
}
