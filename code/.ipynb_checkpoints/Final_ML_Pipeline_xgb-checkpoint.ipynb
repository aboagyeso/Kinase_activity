{
 "cells": [
  {
   "cell_type": "code",
   "execution_count": 2,
   "metadata": {},
   "outputs": [],
   "source": [
    "#import custom module with defined functions\n",
    "from kinase_module import *\n"
   ]
  },
  {
   "cell_type": "code",
   "execution_count": 3,
   "metadata": {},
   "outputs": [],
   "source": [
    "# imports\n",
    "\n",
    "from sklearn import datasets\n",
    "from sklearn.model_selection import cross_val_score, cross_val_predict\n",
    "from sklearn import linear_model\n",
    "from sklearn.ensemble import RandomForestRegressor as rf\n",
    "from sklearn.model_selection import train_test_split\n",
    "import numpy as np\n",
    "from sklearn.metrics import mean_squared_error,r2_score\n",
    "from sklearn.model_selection import KFold\n",
    "import pandas as pd\n",
    "from sklearn import metrics\n",
    "import matplotlib.pyplot as plt\n",
    "import seaborn as sns"
   ]
  },
  {
   "cell_type": "code",
   "execution_count": 4,
   "metadata": {},
   "outputs": [],
   "source": [
    "#!/usr/bin/env python\n",
    "# coding: utf-8\n",
    "\n",
    "# In[ ]:\n",
    "import numpy as np\n",
    "\n",
    "\n",
    "\n",
    "def add_gausian(y,mu,sigma):\n",
    "    noise = np.random.normal(mu,sigma,[1381, 117])\n",
    "    df_aug = df +noise \n",
    "    df_new = pd.concat([df,df_aug])\n",
    "    return(df_new)\n",
    "\n",
    "def drop_corr(df):\n",
    "    '''Function drops highly correlated columns above a 0.95 threshold and outputs a new dataframe.\n",
    "\n",
    "    Input:\n",
    "        df: pandas DataFrame\n",
    "        '''\n",
    "    import numpy as np\n",
    "    corr_matrix = df.corr().abs()\n",
    "    upper = corr_matrix.where(np.triu(np.ones(corr_matrix.shape),k=1).astype(np.bool))\n",
    "    to_drop = [column for column in upper.columns if any(upper[column]>0.95)]\n",
    "    df_new = df.drop(df[to_drop],axis = 1)\n",
    "    return(df_new)\n",
    "\n",
    "def model_eval(model):\n",
    "    model.fit(X_train,y_train)\n",
    "    pred = model.predict(X_test)\n",
    "    #model_score = model.score(X_test,y_test)\n",
    "    model_mse =  mse(y_test,pred)\n",
    "    model_r2 =r2(y_test,pred)\n",
    "    return(model_mse, model_r2)"
   ]
  },
  {
   "cell_type": "code",
   "execution_count": 5,
   "metadata": {},
   "outputs": [
    {
     "data": {
      "text/html": [
       "<div>\n",
       "<style scoped>\n",
       "    .dataframe tbody tr th:only-of-type {\n",
       "        vertical-align: middle;\n",
       "    }\n",
       "\n",
       "    .dataframe tbody tr th {\n",
       "        vertical-align: top;\n",
       "    }\n",
       "\n",
       "    .dataframe thead th {\n",
       "        text-align: right;\n",
       "    }\n",
       "</style>\n",
       "<table border=\"1\" class=\"dataframe\">\n",
       "  <thead>\n",
       "    <tr style=\"text-align: right;\">\n",
       "      <th></th>\n",
       "      <th>Unnamed: 0</th>\n",
       "      <th>target_id</th>\n",
       "      <th>pAc</th>\n",
       "      <th>smiles</th>\n",
       "      <th>SlogP</th>\n",
       "      <th>SMR</th>\n",
       "      <th>LabuteASA</th>\n",
       "      <th>TPSA</th>\n",
       "      <th>AMW</th>\n",
       "      <th>ExactMW</th>\n",
       "      <th>...</th>\n",
       "      <th>MQN33</th>\n",
       "      <th>MQN34</th>\n",
       "      <th>MQN35</th>\n",
       "      <th>MQN36</th>\n",
       "      <th>MQN37</th>\n",
       "      <th>MQN38</th>\n",
       "      <th>MQN39</th>\n",
       "      <th>MQN40</th>\n",
       "      <th>MQN41</th>\n",
       "      <th>MQN42</th>\n",
       "    </tr>\n",
       "  </thead>\n",
       "  <tbody>\n",
       "    <tr>\n",
       "      <th>0</th>\n",
       "      <td>0</td>\n",
       "      <td>O00329</td>\n",
       "      <td>1.4</td>\n",
       "      <td>CS(=O)(=O)C1=CN=CC(=C1)C2=CC3=NC(=NN3C=C2)N</td>\n",
       "      <td>0.7770</td>\n",
       "      <td>73.7402</td>\n",
       "      <td>114.564286</td>\n",
       "      <td>103.24</td>\n",
       "      <td>289.320</td>\n",
       "      <td>289.063346</td>\n",
       "      <td>...</td>\n",
       "      <td>0</td>\n",
       "      <td>0</td>\n",
       "      <td>1</td>\n",
       "      <td>2</td>\n",
       "      <td>0</td>\n",
       "      <td>0</td>\n",
       "      <td>0</td>\n",
       "      <td>0</td>\n",
       "      <td>2</td>\n",
       "      <td>1</td>\n",
       "    </tr>\n",
       "    <tr>\n",
       "      <th>1</th>\n",
       "      <td>1</td>\n",
       "      <td>O00329</td>\n",
       "      <td>1.5</td>\n",
       "      <td>C1=CN2C(=NC(=N2)N)C=C1C3=CC(=CN=C3)S(=O)(=O)N</td>\n",
       "      <td>0.0209</td>\n",
       "      <td>72.0036</td>\n",
       "      <td>113.674613</td>\n",
       "      <td>129.26</td>\n",
       "      <td>290.308</td>\n",
       "      <td>290.058595</td>\n",
       "      <td>...</td>\n",
       "      <td>0</td>\n",
       "      <td>0</td>\n",
       "      <td>1</td>\n",
       "      <td>2</td>\n",
       "      <td>0</td>\n",
       "      <td>0</td>\n",
       "      <td>0</td>\n",
       "      <td>0</td>\n",
       "      <td>2</td>\n",
       "      <td>1</td>\n",
       "    </tr>\n",
       "    <tr>\n",
       "      <th>2</th>\n",
       "      <td>2</td>\n",
       "      <td>O00329</td>\n",
       "      <td>1.5</td>\n",
       "      <td>CC(C)NS(=O)(=O)C1=CN=CC(=C1)C2=CC3=NC(=NN3C=C2)N</td>\n",
       "      <td>1.0602</td>\n",
       "      <td>86.0879</td>\n",
       "      <td>132.979410</td>\n",
       "      <td>115.27</td>\n",
       "      <td>332.389</td>\n",
       "      <td>332.105545</td>\n",
       "      <td>...</td>\n",
       "      <td>0</td>\n",
       "      <td>0</td>\n",
       "      <td>1</td>\n",
       "      <td>2</td>\n",
       "      <td>0</td>\n",
       "      <td>0</td>\n",
       "      <td>0</td>\n",
       "      <td>0</td>\n",
       "      <td>2</td>\n",
       "      <td>1</td>\n",
       "    </tr>\n",
       "    <tr>\n",
       "      <th>3</th>\n",
       "      <td>3</td>\n",
       "      <td>O00329</td>\n",
       "      <td>1.5</td>\n",
       "      <td>CC1(CCN1S(=O)(=O)C2=CN=CC(=C2)C3=CC4=NC(=NN4C=...</td>\n",
       "      <td>1.5465</td>\n",
       "      <td>93.2182</td>\n",
       "      <td>144.913435</td>\n",
       "      <td>106.48</td>\n",
       "      <td>358.427</td>\n",
       "      <td>358.121195</td>\n",
       "      <td>...</td>\n",
       "      <td>0</td>\n",
       "      <td>1</td>\n",
       "      <td>1</td>\n",
       "      <td>2</td>\n",
       "      <td>0</td>\n",
       "      <td>0</td>\n",
       "      <td>0</td>\n",
       "      <td>0</td>\n",
       "      <td>2</td>\n",
       "      <td>1</td>\n",
       "    </tr>\n",
       "    <tr>\n",
       "      <th>4</th>\n",
       "      <td>4</td>\n",
       "      <td>O00329</td>\n",
       "      <td>1.5</td>\n",
       "      <td>CC(C)(C(F)(F)F)NS(=O)(=O)C1=CN=CC(=C1)C2=CC3=N...</td>\n",
       "      <td>1.9927</td>\n",
       "      <td>91.0859</td>\n",
       "      <td>151.840959</td>\n",
       "      <td>115.27</td>\n",
       "      <td>400.386</td>\n",
       "      <td>400.092929</td>\n",
       "      <td>...</td>\n",
       "      <td>0</td>\n",
       "      <td>0</td>\n",
       "      <td>1</td>\n",
       "      <td>2</td>\n",
       "      <td>0</td>\n",
       "      <td>0</td>\n",
       "      <td>0</td>\n",
       "      <td>0</td>\n",
       "      <td>2</td>\n",
       "      <td>1</td>\n",
       "    </tr>\n",
       "  </tbody>\n",
       "</table>\n",
       "<p>5 rows × 120 columns</p>\n",
       "</div>"
      ],
      "text/plain": [
       "   Unnamed: 0 target_id  pAc  \\\n",
       "0           0    O00329  1.4   \n",
       "1           1    O00329  1.5   \n",
       "2           2    O00329  1.5   \n",
       "3           3    O00329  1.5   \n",
       "4           4    O00329  1.5   \n",
       "\n",
       "                                              smiles   SlogP      SMR  \\\n",
       "0        CS(=O)(=O)C1=CN=CC(=C1)C2=CC3=NC(=NN3C=C2)N  0.7770  73.7402   \n",
       "1      C1=CN2C(=NC(=N2)N)C=C1C3=CC(=CN=C3)S(=O)(=O)N  0.0209  72.0036   \n",
       "2   CC(C)NS(=O)(=O)C1=CN=CC(=C1)C2=CC3=NC(=NN3C=C2)N  1.0602  86.0879   \n",
       "3  CC1(CCN1S(=O)(=O)C2=CN=CC(=C2)C3=CC4=NC(=NN4C=...  1.5465  93.2182   \n",
       "4  CC(C)(C(F)(F)F)NS(=O)(=O)C1=CN=CC(=C1)C2=CC3=N...  1.9927  91.0859   \n",
       "\n",
       "    LabuteASA    TPSA      AMW     ExactMW  ...  MQN33  MQN34  MQN35  MQN36  \\\n",
       "0  114.564286  103.24  289.320  289.063346  ...      0      0      1      2   \n",
       "1  113.674613  129.26  290.308  290.058595  ...      0      0      1      2   \n",
       "2  132.979410  115.27  332.389  332.105545  ...      0      0      1      2   \n",
       "3  144.913435  106.48  358.427  358.121195  ...      0      1      1      2   \n",
       "4  151.840959  115.27  400.386  400.092929  ...      0      0      1      2   \n",
       "\n",
       "   MQN37  MQN38  MQN39  MQN40  MQN41  MQN42  \n",
       "0      0      0      0      0      2      1  \n",
       "1      0      0      0      0      2      1  \n",
       "2      0      0      0      0      2      1  \n",
       "3      0      0      0      0      2      1  \n",
       "4      0      0      0      0      2      1  \n",
       "\n",
       "[5 rows x 120 columns]"
      ]
     },
     "execution_count": 5,
     "metadata": {},
     "output_type": "execute_result"
    }
   ],
   "source": [
    "\n",
    "#Data frame\n",
    "#pd.read_csv('~/Desktop/data/kinase_files/KinaseP00533.csv')\n",
    "df = pd.read_csv('~/Desktop/data/kinase_files/KinaseO00329.csv')\n",
    "df.head()"
   ]
  },
  {
   "cell_type": "code",
   "execution_count": 6,
   "metadata": {},
   "outputs": [
    {
     "data": {
      "text/plain": [
       "(1381, 120)"
      ]
     },
     "execution_count": 6,
     "metadata": {},
     "output_type": "execute_result"
    }
   ],
   "source": [
    "#Check the shape of the dataframe\n",
    "df.shape"
   ]
  },
  {
   "cell_type": "code",
   "execution_count": 7,
   "metadata": {},
   "outputs": [
    {
     "data": {
      "text/html": [
       "<div>\n",
       "<style scoped>\n",
       "    .dataframe tbody tr th:only-of-type {\n",
       "        vertical-align: middle;\n",
       "    }\n",
       "\n",
       "    .dataframe tbody tr th {\n",
       "        vertical-align: top;\n",
       "    }\n",
       "\n",
       "    .dataframe thead th {\n",
       "        text-align: right;\n",
       "    }\n",
       "</style>\n",
       "<table border=\"1\" class=\"dataframe\">\n",
       "  <thead>\n",
       "    <tr style=\"text-align: right;\">\n",
       "      <th></th>\n",
       "      <th>Unnamed: 0</th>\n",
       "      <th>target_id</th>\n",
       "      <th>smiles</th>\n",
       "      <th>SlogP</th>\n",
       "      <th>SMR</th>\n",
       "      <th>TPSA</th>\n",
       "      <th>NumLipinskiHBA</th>\n",
       "      <th>NumLipinskiHBD</th>\n",
       "      <th>NumRotatableBonds</th>\n",
       "      <th>NumHBD</th>\n",
       "      <th>...</th>\n",
       "      <th>MQN32</th>\n",
       "      <th>MQN33</th>\n",
       "      <th>MQN34</th>\n",
       "      <th>MQN35</th>\n",
       "      <th>MQN36</th>\n",
       "      <th>MQN37</th>\n",
       "      <th>MQN38</th>\n",
       "      <th>MQN39</th>\n",
       "      <th>MQN40</th>\n",
       "      <th>MQN41</th>\n",
       "    </tr>\n",
       "  </thead>\n",
       "  <tbody>\n",
       "    <tr>\n",
       "      <th>0</th>\n",
       "      <td>0</td>\n",
       "      <td>O00329</td>\n",
       "      <td>CS(=O)(=O)C1=CN=CC(=C1)C2=CC3=NC(=NN3C=C2)N</td>\n",
       "      <td>0.7770</td>\n",
       "      <td>73.7402</td>\n",
       "      <td>103.24</td>\n",
       "      <td>7</td>\n",
       "      <td>2</td>\n",
       "      <td>2</td>\n",
       "      <td>1</td>\n",
       "      <td>...</td>\n",
       "      <td>0</td>\n",
       "      <td>0</td>\n",
       "      <td>0</td>\n",
       "      <td>1</td>\n",
       "      <td>2</td>\n",
       "      <td>0</td>\n",
       "      <td>0</td>\n",
       "      <td>0</td>\n",
       "      <td>0</td>\n",
       "      <td>2</td>\n",
       "    </tr>\n",
       "    <tr>\n",
       "      <th>1</th>\n",
       "      <td>1</td>\n",
       "      <td>O00329</td>\n",
       "      <td>C1=CN2C(=NC(=N2)N)C=C1C3=CC(=CN=C3)S(=O)(=O)N</td>\n",
       "      <td>0.0209</td>\n",
       "      <td>72.0036</td>\n",
       "      <td>129.26</td>\n",
       "      <td>8</td>\n",
       "      <td>4</td>\n",
       "      <td>2</td>\n",
       "      <td>2</td>\n",
       "      <td>...</td>\n",
       "      <td>0</td>\n",
       "      <td>0</td>\n",
       "      <td>0</td>\n",
       "      <td>1</td>\n",
       "      <td>2</td>\n",
       "      <td>0</td>\n",
       "      <td>0</td>\n",
       "      <td>0</td>\n",
       "      <td>0</td>\n",
       "      <td>2</td>\n",
       "    </tr>\n",
       "    <tr>\n",
       "      <th>2</th>\n",
       "      <td>2</td>\n",
       "      <td>O00329</td>\n",
       "      <td>CC(C)NS(=O)(=O)C1=CN=CC(=C1)C2=CC3=NC(=NN3C=C2)N</td>\n",
       "      <td>1.0602</td>\n",
       "      <td>86.0879</td>\n",
       "      <td>115.27</td>\n",
       "      <td>8</td>\n",
       "      <td>3</td>\n",
       "      <td>4</td>\n",
       "      <td>2</td>\n",
       "      <td>...</td>\n",
       "      <td>0</td>\n",
       "      <td>0</td>\n",
       "      <td>0</td>\n",
       "      <td>1</td>\n",
       "      <td>2</td>\n",
       "      <td>0</td>\n",
       "      <td>0</td>\n",
       "      <td>0</td>\n",
       "      <td>0</td>\n",
       "      <td>2</td>\n",
       "    </tr>\n",
       "    <tr>\n",
       "      <th>3</th>\n",
       "      <td>3</td>\n",
       "      <td>O00329</td>\n",
       "      <td>CC1(CCN1S(=O)(=O)C2=CN=CC(=C2)C3=CC4=NC(=NN4C=...</td>\n",
       "      <td>1.5465</td>\n",
       "      <td>93.2182</td>\n",
       "      <td>106.48</td>\n",
       "      <td>8</td>\n",
       "      <td>2</td>\n",
       "      <td>3</td>\n",
       "      <td>1</td>\n",
       "      <td>...</td>\n",
       "      <td>1</td>\n",
       "      <td>0</td>\n",
       "      <td>1</td>\n",
       "      <td>1</td>\n",
       "      <td>2</td>\n",
       "      <td>0</td>\n",
       "      <td>0</td>\n",
       "      <td>0</td>\n",
       "      <td>0</td>\n",
       "      <td>2</td>\n",
       "    </tr>\n",
       "    <tr>\n",
       "      <th>4</th>\n",
       "      <td>4</td>\n",
       "      <td>O00329</td>\n",
       "      <td>CC(C)(C(F)(F)F)NS(=O)(=O)C1=CN=CC(=C1)C2=CC3=N...</td>\n",
       "      <td>1.9927</td>\n",
       "      <td>91.0859</td>\n",
       "      <td>115.27</td>\n",
       "      <td>8</td>\n",
       "      <td>3</td>\n",
       "      <td>4</td>\n",
       "      <td>2</td>\n",
       "      <td>...</td>\n",
       "      <td>0</td>\n",
       "      <td>0</td>\n",
       "      <td>0</td>\n",
       "      <td>1</td>\n",
       "      <td>2</td>\n",
       "      <td>0</td>\n",
       "      <td>0</td>\n",
       "      <td>0</td>\n",
       "      <td>0</td>\n",
       "      <td>2</td>\n",
       "    </tr>\n",
       "  </tbody>\n",
       "</table>\n",
       "<p>5 rows × 93 columns</p>\n",
       "</div>"
      ],
      "text/plain": [
       "   Unnamed: 0 target_id                                             smiles  \\\n",
       "0           0    O00329        CS(=O)(=O)C1=CN=CC(=C1)C2=CC3=NC(=NN3C=C2)N   \n",
       "1           1    O00329      C1=CN2C(=NC(=N2)N)C=C1C3=CC(=CN=C3)S(=O)(=O)N   \n",
       "2           2    O00329   CC(C)NS(=O)(=O)C1=CN=CC(=C1)C2=CC3=NC(=NN3C=C2)N   \n",
       "3           3    O00329  CC1(CCN1S(=O)(=O)C2=CN=CC(=C2)C3=CC4=NC(=NN4C=...   \n",
       "4           4    O00329  CC(C)(C(F)(F)F)NS(=O)(=O)C1=CN=CC(=C1)C2=CC3=N...   \n",
       "\n",
       "    SlogP      SMR    TPSA  NumLipinskiHBA  NumLipinskiHBD  NumRotatableBonds  \\\n",
       "0  0.7770  73.7402  103.24               7               2                  2   \n",
       "1  0.0209  72.0036  129.26               8               4                  2   \n",
       "2  1.0602  86.0879  115.27               8               3                  4   \n",
       "3  1.5465  93.2182  106.48               8               2                  3   \n",
       "4  1.9927  91.0859  115.27               8               3                  4   \n",
       "\n",
       "   NumHBD  ...  MQN32  MQN33  MQN34  MQN35  MQN36  MQN37  MQN38  MQN39  MQN40  \\\n",
       "0       1  ...      0      0      0      1      2      0      0      0      0   \n",
       "1       2  ...      0      0      0      1      2      0      0      0      0   \n",
       "2       2  ...      0      0      0      1      2      0      0      0      0   \n",
       "3       1  ...      1      0      1      1      2      0      0      0      0   \n",
       "4       2  ...      0      0      0      1      2      0      0      0      0   \n",
       "\n",
       "   MQN41  \n",
       "0      2  \n",
       "1      2  \n",
       "2      2  \n",
       "3      2  \n",
       "4      2  \n",
       "\n",
       "[5 rows x 93 columns]"
      ]
     },
     "execution_count": 7,
     "metadata": {},
     "output_type": "execute_result"
    }
   ],
   "source": [
    "drop_corr(df).head()"
   ]
  },
  {
   "cell_type": "code",
   "execution_count": 8,
   "metadata": {},
   "outputs": [
    {
     "data": {
      "text/plain": [
       "(1381, 93)"
      ]
     },
     "execution_count": 8,
     "metadata": {},
     "output_type": "execute_result"
    }
   ],
   "source": [
    "drop_corr(df).shape"
   ]
  },
  {
   "cell_type": "code",
   "execution_count": 9,
   "metadata": {},
   "outputs": [
    {
     "data": {
      "image/png": "[encoded data removed]",
      "text/plain": [
       "<Figure size 432x432 with 1 Axes>"
      ]
     },
     "metadata": {
      "needs_background": "light"
     },
     "output_type": "display_data"
    }
   ],
   "source": [
    "#Plot distribution of the pAc with the density estimation function\n",
    "f, ax = plt.subplots(figsize=(6, 6))\n",
    "sns.distplot(df.pAc,color = 'black');\n",
    "sns.set_style(\"whitegrid\")"
   ]
  },
  {
   "cell_type": "code",
   "execution_count": 10,
   "metadata": {},
   "outputs": [
    {
     "data": {
      "image/png": "[encoded data removed]",
      "text/plain": [
       "<Figure size 360x432 with 1 Axes>"
      ]
     },
     "metadata": {},
     "output_type": "display_data"
    }
   ],
   "source": [
    "#Boxplot of pAc,It has a few outliers but the distribution in fairly normal\n",
    "f, ax = plt.subplots(figsize=(5, 6))\n",
    "sns.set_style(\"whitegrid\")\n",
    "data = df.pAc\n",
    "sns.boxplot(data=data);"
   ]
  },
  {
   "cell_type": "code",
   "execution_count": 11,
   "metadata": {},
   "outputs": [
    {
     "data": {
      "text/html": [
       "<div>\n",
       "<style scoped>\n",
       "    .dataframe tbody tr th:only-of-type {\n",
       "        vertical-align: middle;\n",
       "    }\n",
       "\n",
       "    .dataframe tbody tr th {\n",
       "        vertical-align: top;\n",
       "    }\n",
       "\n",
       "    .dataframe thead th {\n",
       "        text-align: right;\n",
       "    }\n",
       "</style>\n",
       "<table border=\"1\" class=\"dataframe\">\n",
       "  <thead>\n",
       "    <tr style=\"text-align: right;\">\n",
       "      <th></th>\n",
       "      <th>pAc</th>\n",
       "      <th>SlogP</th>\n",
       "      <th>SMR</th>\n",
       "      <th>LabuteASA</th>\n",
       "      <th>TPSA</th>\n",
       "      <th>AMW</th>\n",
       "      <th>ExactMW</th>\n",
       "      <th>NumLipinskiHBA</th>\n",
       "      <th>NumLipinskiHBD</th>\n",
       "      <th>NumRotatableBonds</th>\n",
       "      <th>...</th>\n",
       "      <th>MQN33</th>\n",
       "      <th>MQN34</th>\n",
       "      <th>MQN35</th>\n",
       "      <th>MQN36</th>\n",
       "      <th>MQN37</th>\n",
       "      <th>MQN38</th>\n",
       "      <th>MQN39</th>\n",
       "      <th>MQN40</th>\n",
       "      <th>MQN41</th>\n",
       "      <th>MQN42</th>\n",
       "    </tr>\n",
       "  </thead>\n",
       "  <tbody>\n",
       "    <tr>\n",
       "      <th>0</th>\n",
       "      <td>1.4</td>\n",
       "      <td>0.7770</td>\n",
       "      <td>73.7402</td>\n",
       "      <td>114.564286</td>\n",
       "      <td>103.24</td>\n",
       "      <td>289.320</td>\n",
       "      <td>289.063346</td>\n",
       "      <td>7</td>\n",
       "      <td>2</td>\n",
       "      <td>2</td>\n",
       "      <td>...</td>\n",
       "      <td>0</td>\n",
       "      <td>0</td>\n",
       "      <td>1</td>\n",
       "      <td>2</td>\n",
       "      <td>0</td>\n",
       "      <td>0</td>\n",
       "      <td>0</td>\n",
       "      <td>0</td>\n",
       "      <td>2</td>\n",
       "      <td>1</td>\n",
       "    </tr>\n",
       "    <tr>\n",
       "      <th>1</th>\n",
       "      <td>1.5</td>\n",
       "      <td>0.0209</td>\n",
       "      <td>72.0036</td>\n",
       "      <td>113.674613</td>\n",
       "      <td>129.26</td>\n",
       "      <td>290.308</td>\n",
       "      <td>290.058595</td>\n",
       "      <td>8</td>\n",
       "      <td>4</td>\n",
       "      <td>2</td>\n",
       "      <td>...</td>\n",
       "      <td>0</td>\n",
       "      <td>0</td>\n",
       "      <td>1</td>\n",
       "      <td>2</td>\n",
       "      <td>0</td>\n",
       "      <td>0</td>\n",
       "      <td>0</td>\n",
       "      <td>0</td>\n",
       "      <td>2</td>\n",
       "      <td>1</td>\n",
       "    </tr>\n",
       "    <tr>\n",
       "      <th>2</th>\n",
       "      <td>1.5</td>\n",
       "      <td>1.0602</td>\n",
       "      <td>86.0879</td>\n",
       "      <td>132.979410</td>\n",
       "      <td>115.27</td>\n",
       "      <td>332.389</td>\n",
       "      <td>332.105545</td>\n",
       "      <td>8</td>\n",
       "      <td>3</td>\n",
       "      <td>4</td>\n",
       "      <td>...</td>\n",
       "      <td>0</td>\n",
       "      <td>0</td>\n",
       "      <td>1</td>\n",
       "      <td>2</td>\n",
       "      <td>0</td>\n",
       "      <td>0</td>\n",
       "      <td>0</td>\n",
       "      <td>0</td>\n",
       "      <td>2</td>\n",
       "      <td>1</td>\n",
       "    </tr>\n",
       "    <tr>\n",
       "      <th>3</th>\n",
       "      <td>1.5</td>\n",
       "      <td>1.5465</td>\n",
       "      <td>93.2182</td>\n",
       "      <td>144.913435</td>\n",
       "      <td>106.48</td>\n",
       "      <td>358.427</td>\n",
       "      <td>358.121195</td>\n",
       "      <td>8</td>\n",
       "      <td>2</td>\n",
       "      <td>3</td>\n",
       "      <td>...</td>\n",
       "      <td>0</td>\n",
       "      <td>1</td>\n",
       "      <td>1</td>\n",
       "      <td>2</td>\n",
       "      <td>0</td>\n",
       "      <td>0</td>\n",
       "      <td>0</td>\n",
       "      <td>0</td>\n",
       "      <td>2</td>\n",
       "      <td>1</td>\n",
       "    </tr>\n",
       "    <tr>\n",
       "      <th>4</th>\n",
       "      <td>1.5</td>\n",
       "      <td>1.9927</td>\n",
       "      <td>91.0859</td>\n",
       "      <td>151.840959</td>\n",
       "      <td>115.27</td>\n",
       "      <td>400.386</td>\n",
       "      <td>400.092929</td>\n",
       "      <td>8</td>\n",
       "      <td>3</td>\n",
       "      <td>4</td>\n",
       "      <td>...</td>\n",
       "      <td>0</td>\n",
       "      <td>0</td>\n",
       "      <td>1</td>\n",
       "      <td>2</td>\n",
       "      <td>0</td>\n",
       "      <td>0</td>\n",
       "      <td>0</td>\n",
       "      <td>0</td>\n",
       "      <td>2</td>\n",
       "      <td>1</td>\n",
       "    </tr>\n",
       "  </tbody>\n",
       "</table>\n",
       "<p>5 rows × 117 columns</p>\n",
       "</div>"
      ],
      "text/plain": [
       "   pAc   SlogP      SMR   LabuteASA    TPSA      AMW     ExactMW  \\\n",
       "0  1.4  0.7770  73.7402  114.564286  103.24  289.320  289.063346   \n",
       "1  1.5  0.0209  72.0036  113.674613  129.26  290.308  290.058595   \n",
       "2  1.5  1.0602  86.0879  132.979410  115.27  332.389  332.105545   \n",
       "3  1.5  1.5465  93.2182  144.913435  106.48  358.427  358.121195   \n",
       "4  1.5  1.9927  91.0859  151.840959  115.27  400.386  400.092929   \n",
       "\n",
       "   NumLipinskiHBA  NumLipinskiHBD  NumRotatableBonds  ...  MQN33  MQN34  \\\n",
       "0               7               2                  2  ...      0      0   \n",
       "1               8               4                  2  ...      0      0   \n",
       "2               8               3                  4  ...      0      0   \n",
       "3               8               2                  3  ...      0      1   \n",
       "4               8               3                  4  ...      0      0   \n",
       "\n",
       "   MQN35  MQN36  MQN37  MQN38  MQN39  MQN40  MQN41  MQN42  \n",
       "0      1      2      0      0      0      0      2      1  \n",
       "1      1      2      0      0      0      0      2      1  \n",
       "2      1      2      0      0      0      0      2      1  \n",
       "3      1      2      0      0      0      0      2      1  \n",
       "4      1      2      0      0      0      0      2      1  \n",
       "\n",
       "[5 rows x 117 columns]"
      ]
     },
     "execution_count": 11,
     "metadata": {},
     "output_type": "execute_result"
    }
   ],
   "source": [
    "#Drop unwanted colum(unnamed)\n",
    "df = df.drop(['Unnamed: 0','smiles','target_id'], axis=1)\n",
    "df.head()"
   ]
  },
  {
   "cell_type": "code",
   "execution_count": 12,
   "metadata": {},
   "outputs": [
    {
     "data": {
      "text/plain": [
       "(1381, 117)"
      ]
     },
     "execution_count": 12,
     "metadata": {},
     "output_type": "execute_result"
    }
   ],
   "source": [
    "df.shape"
   ]
  },
  {
   "cell_type": "code",
   "execution_count": 13,
   "metadata": {},
   "outputs": [],
   "source": [
    "# Get the feature vector\n",
    "#X = df.drop('smiles', 'mol', 'pAc', axis=1)\n",
    "X = df.drop(columns=['pAc'],axis=1)\n",
    "# Get the target vector\n",
    "y = df[\"pAc\"]"
   ]
  },
  {
   "cell_type": "code",
   "execution_count": 14,
   "metadata": {},
   "outputs": [],
   "source": [
    "X_train, X_test, y_train, y_test = train_test_split(X, y, test_size=0.3,random_state=0)"
   ]
  },
  {
   "cell_type": "code",
   "execution_count": 15,
   "metadata": {},
   "outputs": [
    {
     "data": {
      "text/plain": [
       "((966, 116), (415, 116), (966,), (415,))"
      ]
     },
     "execution_count": 15,
     "metadata": {},
     "output_type": "execute_result"
    }
   ],
   "source": [
    "#Check the shape of the training and testing data \n",
    "X_train.shape, X_test.shape, y_train.shape, y_test.shape "
   ]
  },
  {
   "cell_type": "code",
   "execution_count": 16,
   "metadata": {},
   "outputs": [
    {
     "name": "stdout",
     "output_type": "stream",
     "text": [
      "(415, 116)\n"
     ]
    },
    {
     "data": {
      "text/plain": [
       "(415,)"
      ]
     },
     "execution_count": 16,
     "metadata": {},
     "output_type": "execute_result"
    }
   ],
   "source": [
    "X_test\n",
    "print(X_test.shape)\n",
    "y_test.shape"
   ]
  },
  {
   "cell_type": "markdown",
   "metadata": {},
   "source": [
    "###### Add the X_train and y_train to form a a training set for augmentation"
   ]
  },
  {
   "cell_type": "code",
   "execution_count": 23,
   "metadata": {},
   "outputs": [
    {
     "data": {
      "text/html": [
       "<div>\n",
       "<style scoped>\n",
       "    .dataframe tbody tr th:only-of-type {\n",
       "        vertical-align: middle;\n",
       "    }\n",
       "\n",
       "    .dataframe tbody tr th {\n",
       "        vertical-align: top;\n",
       "    }\n",
       "\n",
       "    .dataframe thead th {\n",
       "        text-align: right;\n",
       "    }\n",
       "</style>\n",
       "<table border=\"1\" class=\"dataframe\">\n",
       "  <thead>\n",
       "    <tr style=\"text-align: right;\">\n",
       "      <th></th>\n",
       "      <th>SlogP</th>\n",
       "      <th>SMR</th>\n",
       "      <th>LabuteASA</th>\n",
       "      <th>TPSA</th>\n",
       "      <th>AMW</th>\n",
       "      <th>ExactMW</th>\n",
       "      <th>NumLipinskiHBA</th>\n",
       "      <th>NumLipinskiHBD</th>\n",
       "      <th>NumRotatableBonds</th>\n",
       "      <th>NumHBD</th>\n",
       "      <th>...</th>\n",
       "      <th>MQN34</th>\n",
       "      <th>MQN35</th>\n",
       "      <th>MQN36</th>\n",
       "      <th>MQN37</th>\n",
       "      <th>MQN38</th>\n",
       "      <th>MQN39</th>\n",
       "      <th>MQN40</th>\n",
       "      <th>MQN41</th>\n",
       "      <th>MQN42</th>\n",
       "      <th>pAc</th>\n",
       "    </tr>\n",
       "  </thead>\n",
       "  <tbody>\n",
       "    <tr>\n",
       "      <th>592</th>\n",
       "      <td>2.74670</td>\n",
       "      <td>92.8582</td>\n",
       "      <td>143.954692</td>\n",
       "      <td>63.69</td>\n",
       "      <td>345.424</td>\n",
       "      <td>345.114712</td>\n",
       "      <td>6</td>\n",
       "      <td>1</td>\n",
       "      <td>2</td>\n",
       "      <td>1</td>\n",
       "      <td>...</td>\n",
       "      <td>0</td>\n",
       "      <td>1</td>\n",
       "      <td>3</td>\n",
       "      <td>0</td>\n",
       "      <td>0</td>\n",
       "      <td>0</td>\n",
       "      <td>0</td>\n",
       "      <td>4</td>\n",
       "      <td>2</td>\n",
       "      <td>6.640</td>\n",
       "    </tr>\n",
       "    <tr>\n",
       "      <th>858</th>\n",
       "      <td>5.13408</td>\n",
       "      <td>116.6794</td>\n",
       "      <td>180.702227</td>\n",
       "      <td>95.21</td>\n",
       "      <td>431.862</td>\n",
       "      <td>431.106149</td>\n",
       "      <td>7</td>\n",
       "      <td>2</td>\n",
       "      <td>4</td>\n",
       "      <td>2</td>\n",
       "      <td>...</td>\n",
       "      <td>0</td>\n",
       "      <td>2</td>\n",
       "      <td>3</td>\n",
       "      <td>0</td>\n",
       "      <td>0</td>\n",
       "      <td>0</td>\n",
       "      <td>0</td>\n",
       "      <td>4</td>\n",
       "      <td>2</td>\n",
       "      <td>7.300</td>\n",
       "    </tr>\n",
       "    <tr>\n",
       "      <th>271</th>\n",
       "      <td>1.95420</td>\n",
       "      <td>85.6116</td>\n",
       "      <td>131.088799</td>\n",
       "      <td>115.87</td>\n",
       "      <td>318.768</td>\n",
       "      <td>318.099587</td>\n",
       "      <td>7</td>\n",
       "      <td>5</td>\n",
       "      <td>3</td>\n",
       "      <td>3</td>\n",
       "      <td>...</td>\n",
       "      <td>0</td>\n",
       "      <td>1</td>\n",
       "      <td>2</td>\n",
       "      <td>0</td>\n",
       "      <td>0</td>\n",
       "      <td>0</td>\n",
       "      <td>0</td>\n",
       "      <td>2</td>\n",
       "      <td>1</td>\n",
       "      <td>5.790</td>\n",
       "    </tr>\n",
       "    <tr>\n",
       "      <th>1275</th>\n",
       "      <td>3.40440</td>\n",
       "      <td>135.4708</td>\n",
       "      <td>209.710836</td>\n",
       "      <td>99.05</td>\n",
       "      <td>488.596</td>\n",
       "      <td>488.264822</td>\n",
       "      <td>10</td>\n",
       "      <td>1</td>\n",
       "      <td>5</td>\n",
       "      <td>1</td>\n",
       "      <td>...</td>\n",
       "      <td>0</td>\n",
       "      <td>3</td>\n",
       "      <td>2</td>\n",
       "      <td>1</td>\n",
       "      <td>0</td>\n",
       "      <td>0</td>\n",
       "      <td>0</td>\n",
       "      <td>4</td>\n",
       "      <td>2</td>\n",
       "      <td>8.620</td>\n",
       "    </tr>\n",
       "    <tr>\n",
       "      <th>785</th>\n",
       "      <td>6.24672</td>\n",
       "      <td>150.1270</td>\n",
       "      <td>218.190532</td>\n",
       "      <td>37.83</td>\n",
       "      <td>491.635</td>\n",
       "      <td>491.257277</td>\n",
       "      <td>5</td>\n",
       "      <td>0</td>\n",
       "      <td>3</td>\n",
       "      <td>0</td>\n",
       "      <td>...</td>\n",
       "      <td>0</td>\n",
       "      <td>1</td>\n",
       "      <td>6</td>\n",
       "      <td>0</td>\n",
       "      <td>0</td>\n",
       "      <td>0</td>\n",
       "      <td>0</td>\n",
       "      <td>5</td>\n",
       "      <td>2</td>\n",
       "      <td>7.115</td>\n",
       "    </tr>\n",
       "  </tbody>\n",
       "</table>\n",
       "<p>5 rows × 117 columns</p>\n",
       "</div>"
      ],
      "text/plain": [
       "        SlogP       SMR   LabuteASA    TPSA      AMW     ExactMW  \\\n",
       "592   2.74670   92.8582  143.954692   63.69  345.424  345.114712   \n",
       "858   5.13408  116.6794  180.702227   95.21  431.862  431.106149   \n",
       "271   1.95420   85.6116  131.088799  115.87  318.768  318.099587   \n",
       "1275  3.40440  135.4708  209.710836   99.05  488.596  488.264822   \n",
       "785   6.24672  150.1270  218.190532   37.83  491.635  491.257277   \n",
       "\n",
       "      NumLipinskiHBA  NumLipinskiHBD  NumRotatableBonds  NumHBD  ...  MQN34  \\\n",
       "592                6               1                  2       1  ...      0   \n",
       "858                7               2                  4       2  ...      0   \n",
       "271                7               5                  3       3  ...      0   \n",
       "1275              10               1                  5       1  ...      0   \n",
       "785                5               0                  3       0  ...      0   \n",
       "\n",
       "      MQN35  MQN36  MQN37  MQN38  MQN39  MQN40  MQN41  MQN42    pAc  \n",
       "592       1      3      0      0      0      0      4      2  6.640  \n",
       "858       2      3      0      0      0      0      4      2  7.300  \n",
       "271       1      2      0      0      0      0      2      1  5.790  \n",
       "1275      3      2      1      0      0      0      4      2  8.620  \n",
       "785       1      6      0      0      0      0      5      2  7.115  \n",
       "\n",
       "[5 rows x 117 columns]"
      ]
     },
     "execution_count": 23,
     "metadata": {},
     "output_type": "execute_result"
    }
   ],
   "source": [
    "df_train_set = pd.concat([X_train, y_train], axis = 1)\n",
    "df_train_set.head()"
   ]
  },
  {
   "cell_type": "markdown",
   "metadata": {},
   "source": [
    "VALIDATION SET FOR EXTERNAL VALIDATION"
   ]
  },
  {
   "cell_type": "code",
   "execution_count": 24,
   "metadata": {},
   "outputs": [
    {
     "data": {
      "text/plain": [
       "(966, 117)"
      ]
     },
     "execution_count": 24,
     "metadata": {},
     "output_type": "execute_result"
    }
   ],
   "source": [
    "df_train_set.shape"
   ]
  },
  {
   "cell_type": "code",
   "execution_count": 25,
   "metadata": {},
   "outputs": [],
   "source": [
    "X_test_val = X_test\n",
    "y_test_val = y_test"
   ]
  },
  {
   "cell_type": "code",
   "execution_count": null,
   "metadata": {},
   "outputs": [],
   "source": [
    "from sklearn.svm import svr \n",
    "from sklearn.model_selection import GridSearchCV \n"
   ]
  },
  {
   "cell_type": "code",
   "execution_count": null,
   "metadata": {},
   "outputs": [],
   "source": []
  },
  {
   "cell_type": "code",
   "execution_count": null,
   "metadata": {},
   "outputs": [],
   "source": [
    "#Add noise of 0.01 to the dataframe\n",
    "df1 = add_gausian(df,0,0.1)\n",
    "\n",
    "df1.shape"
   ]
  },
  {
   "cell_type": "code",
   "execution_count": null,
   "metadata": {},
   "outputs": [],
   "source": [
    "# Get the feature vector\n",
    "#X = df.drop('smiles', 'mol', 'pAc', axis=1)\n",
    "X = df1.drop(columns=['pAc'],axis=1).values\n",
    "# Get the target vector\n",
    "y = df1[\"pAc\"].values\n",
    "X_train, X_test, y_train, y_test = train_test_split(X, y, test_size=0.3,random_state=1)"
   ]
  },
  {
   "cell_type": "code",
   "execution_count": null,
   "metadata": {},
   "outputs": [],
   "source": [
    "\n",
    "print(model_eval(rf()))"
   ]
  },
  {
   "cell_type": "code",
   "execution_count": null,
   "metadata": {},
   "outputs": [],
   "source": [
    "cv_results = cross_validate(rf(), X, y, cv=10)\n",
    "sorted(cv_results.keys())\n",
    "this_scores = cross_val_score(rf(), X, y, cv=10, n_jobs=1)\n",
    "print(this_scores)\n",
    "this_scores.mean()"
   ]
  },
  {
   "cell_type": "code",
   "execution_count": null,
   "metadata": {},
   "outputs": [],
   "source": [
    "#Add noise of 0.02 to the dataframe\n",
    "df2 = add_gausian(df,0,0.2)\n",
    "df2 = pd.concat([df,df2])\n",
    "df2.shape"
   ]
  },
  {
   "cell_type": "code",
   "execution_count": null,
   "metadata": {},
   "outputs": [],
   "source": [
    "# Get the feature vector\n",
    "#X = df.drop('smiles', 'mol', 'pAc', axis=1)\n",
    "X = df2.drop(columns=['pAc'],axis=1).values\n",
    "# Get the target vector\n",
    "y = df2[\"pAc\"].values\n",
    "X_train, X_test, y_train, y_test = train_test_split(X, y, test_size=0.3,random_state=1)"
   ]
  },
  {
   "cell_type": "code",
   "execution_count": null,
   "metadata": {},
   "outputs": [],
   "source": [
    "# Get the feature vector\n",
    "#X = df.drop('smiles', 'mol', 'pAc', axis=1)\n",
    "X = df2.drop(columns=['pAc'],axis=1).values\n",
    "# Get the target vector\n",
    "y = df2[\"pAc\"].values\n",
    "X_train, X_test, y_train, y_test = train_test_split(X, y, test_size=0.3,random_state=1)\n",
    "print(model_eval(rf()))"
   ]
  },
  {
   "cell_type": "code",
   "execution_count": null,
   "metadata": {},
   "outputs": [],
   "source": [
    "cv_results = cross_validate(rf(), X, y, cv=10)\n",
    "sorted(cv_results.keys())\n",
    "this_scores = cross_val_score(rf(), X, y, cv=10, n_jobs=1)\n",
    "print(this_scores)\n",
    "this_scores.mean()"
   ]
  },
  {
   "cell_type": "code",
   "execution_count": null,
   "metadata": {},
   "outputs": [],
   "source": [
    "#Add noise of 0.03 to the dataframe\n",
    "df3 = add_gausian(df,0,0.3)\n",
    "df3 = pd.concat([df2,df3])\n",
    "df3.shape"
   ]
  },
  {
   "cell_type": "code",
   "execution_count": null,
   "metadata": {},
   "outputs": [],
   "source": [
    "# Get the feature vector\n",
    "#X = df.drop('smiles', 'mol', 'pAc', axis=1)\n",
    "X = df3.drop(columns=['pAc'],axis=1).values\n",
    "# Get the target vector\n",
    "y = df3[\"pAc\"].values\n",
    "X_train, X_test, y_train, y_test = train_test_split(X, y, test_size=0.3,random_state=1)"
   ]
  },
  {
   "cell_type": "code",
   "execution_count": null,
   "metadata": {},
   "outputs": [],
   "source": [
    "print(model_eval(rf()))"
   ]
  },
  {
   "cell_type": "code",
   "execution_count": null,
   "metadata": {},
   "outputs": [],
   "source": [
    "cv_results = cross_validate(rf(), X, y, cv=10)\n",
    "sorted(cv_results.keys())\n",
    "this_scores = cross_val_score(rf(), X, y, cv=10, n_jobs=1)\n",
    "print(this_scores)\n",
    "this_scores.mean()"
   ]
  },
  {
   "cell_type": "code",
   "execution_count": null,
   "metadata": {},
   "outputs": [],
   "source": [
    "#Add noise of 0.04 to the dataframe\n",
    "df4 = add_gausian(df,0,0.4)\n",
    "df4 = pd.concat([df3,df4])\n",
    "df4.shape"
   ]
  },
  {
   "cell_type": "code",
   "execution_count": null,
   "metadata": {},
   "outputs": [],
   "source": [
    "# Get the feature vector\n",
    "#X = df.drop('smiles', 'mol', 'pAc', axis=1)\n",
    "X = df4.drop(columns=['pAc'],axis=1).values\n",
    "# Get the target vector\n",
    "y = df4[\"pAc\"].values\n",
    "X_train, X_test, y_train, y_test = train_test_split(X, y, test_size=0.3,random_state=1)"
   ]
  },
  {
   "cell_type": "code",
   "execution_count": null,
   "metadata": {},
   "outputs": [],
   "source": [
    "print(model_eval(rf()))"
   ]
  },
  {
   "cell_type": "code",
   "execution_count": null,
   "metadata": {},
   "outputs": [],
   "source": [
    "cv_results = cross_validate(rf(), X, y, cv=10)\n",
    "sorted(cv_results.keys())\n",
    "this_scores = cross_val_score(rf(), X, y, cv=10, n_jobs=1)\n",
    "print(this_scores)\n",
    "this_scores.mean()"
   ]
  },
  {
   "cell_type": "code",
   "execution_count": null,
   "metadata": {},
   "outputs": [],
   "source": [
    "#Add noise of 0.05 to the dataframe\n",
    "df5 = add_gausian(df,0,0.5)\n",
    "df5 = pd.concat([df4,df5])\n",
    "df5.shape"
   ]
  },
  {
   "cell_type": "code",
   "execution_count": null,
   "metadata": {},
   "outputs": [],
   "source": [
    "# Get the feature vector\n",
    "#X = df.drop('smiles', 'mol', 'pAc', axis=1)\n",
    "X = df5.drop(columns=['pAc'],axis=1).values\n",
    "# Get the target vector\n",
    "y = df5[\"pAc\"].values\n",
    "X_train, X_test, y_train, y_test = train_test_split(X, y, test_size=0.3,random_state=1)"
   ]
  },
  {
   "cell_type": "code",
   "execution_count": null,
   "metadata": {},
   "outputs": [],
   "source": [
    "print(model_eval(rf()))"
   ]
  },
  {
   "cell_type": "code",
   "execution_count": null,
   "metadata": {},
   "outputs": [],
   "source": [
    "cv_results = cross_validate(rf(), X, y, cv=10)\n",
    "sorted(cv_results.keys())\n",
    "this_scores = cross_val_score(rf(), X, y, cv=10, n_jobs=1)\n",
    "print(this_scores)\n",
    "this_scores.mean()"
   ]
  },
  {
   "cell_type": "code",
   "execution_count": null,
   "metadata": {},
   "outputs": [],
   "source": []
  }
 ],
 "metadata": {
  "kernelspec": {
   "display_name": "Python 3",
   "language": "python",
   "name": "python3"
  },
  "language_info": {
   "codemirror_mode": {
    "name": "ipython",
    "version": 3
   },
   "file_extension": ".py",
   "mimetype": "text/x-python",
   "name": "python",
   "nbconvert_exporter": "python",
   "pygments_lexer": "ipython3",
   "version": "3.6.8"
  }
 },
 "nbformat": 4,
 "nbformat_minor": 2
}
